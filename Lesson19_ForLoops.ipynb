{
  "nbformat": 4,
  "nbformat_minor": 0,
  "metadata": {
    "colab": {
      "name": "Lesson19-ForLoops.ipynb",
      "provenance": [],
      "collapsed_sections": [],
      "authorship_tag": "ABX9TyOulVxryF4fYp9EZUaScNzC",
      "include_colab_link": true
    },
    "kernelspec": {
      "name": "python3",
      "display_name": "Python 3"
    },
    "language_info": {
      "name": "python"
    }
  },
  "cells": [
    {
      "cell_type": "markdown",
      "metadata": {
        "id": "view-in-github",
        "colab_type": "text"
      },
      "source": [
        "<a href=\"https://colab.research.google.com/github/avkornaev/Python-for-image-processing-course/blob/main/Lesson19_ForLoops.ipynb\" target=\"_parent\"><img src=\"https://colab.research.google.com/assets/colab-badge.svg\" alt=\"Open In Colab\"/></a>"
      ]
    },
    {
      "cell_type": "code",
      "metadata": {
        "colab": {
          "base_uri": "https://localhost:8080/"
        },
        "id": "38tC2a_-6fBc",
        "outputId": "3f9edbe1-93a0-4bab-e56a-4f2630c75ae7"
      },
      "source": [
        "a = [1,2,3,4,5]\n",
        "b = [\"a\",\"b\",\"c\",\"d\"]\n",
        "C = -40\n",
        "F =  20\n",
        "\n",
        "for i in b:\n",
        "  print(\"The current value is: \", i)\n"
      ],
      "execution_count": 13,
      "outputs": [
        {
          "output_type": "stream",
          "text": [
            "The current value is:  a\n",
            "The current value is:  b\n",
            "The current value is:  c\n",
            "The current value is:  d\n"
          ],
          "name": "stdout"
        }
      ]
    },
    {
      "cell_type": "code",
      "metadata": {
        "id": "0uR8OZ4g8Lkt"
      },
      "source": [
        "for i in range(20,60,2):\n",
        "  print(i)\n"
      ],
      "execution_count": null,
      "outputs": []
    },
    {
      "cell_type": "code",
      "metadata": {
        "id": "gh8bOWcCBfd7"
      },
      "source": [
        "for num in range(0, 20):\n",
        "  if num%2 == 0:\n",
        "    print(\"%d is an even number\" %(num))\n",
        "  else:\n",
        "    print(\"%f is an odd number\" %(num))  \n",
        "\n",
        "#print(\"X=%d, Y=%f\" %(num,a))"
      ],
      "execution_count": null,
      "outputs": []
    },
    {
      "cell_type": "code",
      "metadata": {
        "id": "Ufk69J_fIbVu"
      },
      "source": [
        ""
      ],
      "execution_count": 15,
      "outputs": []
    }
  ]
}