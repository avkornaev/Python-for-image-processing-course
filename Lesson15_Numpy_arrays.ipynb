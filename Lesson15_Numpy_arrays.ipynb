{
  "nbformat": 4,
  "nbformat_minor": 0,
  "metadata": {
    "colab": {
      "name": "Lesson15-Numpy_arrays.ipynb",
      "provenance": [],
      "collapsed_sections": [],
      "mount_file_id": "14uO95JgsxBQfMA3PbwafON6TwJQ98YuO",
      "authorship_tag": "ABX9TyP4kQn7iLmB1n3tbPs4rOC2",
      "include_colab_link": true
    },
    "kernelspec": {
      "name": "python3",
      "display_name": "Python 3"
    },
    "language_info": {
      "name": "python"
    }
  },
  "cells": [
    {
      "cell_type": "markdown",
      "metadata": {
        "id": "view-in-github",
        "colab_type": "text"
      },
      "source": [
        "<a href=\"https://colab.research.google.com/github/avkornaev/Python-for-image-processing-course/blob/main/Lesson15_Numpy_arrays.ipynb\" target=\"_parent\"><img src=\"https://colab.research.google.com/assets/colab-badge.svg\" alt=\"Open In Colab\"/></a>"
      ]
    },
    {
      "cell_type": "code",
      "metadata": {
        "id": "PPFVlbT2arCX"
      },
      "source": [
        ""
      ],
      "execution_count": null,
      "outputs": []
    },
    {
      "cell_type": "markdown",
      "metadata": {
        "id": "0_PXyjDba1ep"
      },
      "source": [
        "What are arrays?"
      ]
    },
    {
      "cell_type": "code",
      "metadata": {
        "id": "CLBCUPYVa4kH"
      },
      "source": [
        "import numpy as np"
      ],
      "execution_count": null,
      "outputs": []
    },
    {
      "cell_type": "code",
      "metadata": {
        "colab": {
          "base_uri": "https://localhost:8080/"
        },
        "id": "Ld4DH6J9bWap",
        "outputId": "85c1d691-252c-4523-9d7a-b605ae355cac"
      },
      "source": [
        "a = [1,2,3,4,5]\n",
        "c = np.array(a)\n",
        "d = 2*c\n",
        "print(c)\n",
        "print(d)\n",
        "print(c**2)"
      ],
      "execution_count": null,
      "outputs": [
        {
          "output_type": "stream",
          "text": [
            "[1 2 3 4 5]\n",
            "[ 2  4  6  8 10]\n",
            "[ 1  4  9 16 25]\n"
          ],
          "name": "stdout"
        }
      ]
    },
    {
      "cell_type": "code",
      "metadata": {
        "colab": {
          "base_uri": "https://localhost:8080/"
        },
        "id": "yYGq8HfXb7qM",
        "outputId": "619c6812-d9cd-4239-a72e-cb5f470721c6"
      },
      "source": [
        "a = np.array([1,2,3,4,5])\n",
        "b = np.array([6,7,8])\n",
        "c = np.array([9,10,11,12,13])\n",
        "print(a+c)"
      ],
      "execution_count": null,
      "outputs": [
        {
          "output_type": "stream",
          "text": [
            "[10 12 14 16 18]\n"
          ],
          "name": "stdout"
        }
      ]
    },
    {
      "cell_type": "code",
      "metadata": {
        "colab": {
          "base_uri": "https://localhost:8080/"
        },
        "id": "3ayPz2YFchWh",
        "outputId": "414381f1-9390-4d5f-ba57-9fd00ac71c47"
      },
      "source": [
        "x = np.array([[1,2],[3,4]])\n",
        "y = np.array([[1,2],[3,4]], dtype=np.float64)\n",
        "type(y)"
      ],
      "execution_count": null,
      "outputs": [
        {
          "output_type": "execute_result",
          "data": {
            "text/plain": [
              "numpy.ndarray"
            ]
          },
          "metadata": {
            "tags": []
          },
          "execution_count": 19
        }
      ]
    },
    {
      "cell_type": "code",
      "metadata": {
        "colab": {
          "base_uri": "https://localhost:8080/"
        },
        "id": "TgLZF7j8dUFz",
        "outputId": "492e1779-d4cd-40bd-8c01-4b4de7997091"
      },
      "source": [
        "import cv2\n",
        "from skimage import io\n",
        "img1 = cv2.imread('/content/1122_1.tiff')\n",
        "print(type(img1))\n",
        "np.size(img1)"
      ],
      "execution_count": null,
      "outputs": [
        {
          "output_type": "stream",
          "text": [
            "<class 'numpy.ndarray'>\n"
          ],
          "name": "stdout"
        },
        {
          "output_type": "execute_result",
          "data": {
            "text/plain": [
              "32216187"
            ]
          },
          "metadata": {
            "tags": []
          },
          "execution_count": 41
        }
      ]
    },
    {
      "cell_type": "code",
      "metadata": {
        "colab": {
          "base_uri": "https://localhost:8080/"
        },
        "id": "LVCtUrF_foDp",
        "outputId": "73cb1b0f-8318-4c24-c87e-3d653d761ff0"
      },
      "source": [
        "e = np.ones((3,3))\n",
        "f = np.zeros((3,3))\n",
        "g = np.ones_like(img1)\n",
        "h = np.array([[1,2,3,4],[5,6,7,8],[9,10,11,12]])\n",
        "print(np.shape(h))\n",
        "print(h)"
      ],
      "execution_count": null,
      "outputs": [
        {
          "output_type": "stream",
          "text": [
            "(3, 4)\n",
            "[[ 1  2  3  4]\n",
            " [ 5  6  7  8]\n",
            " [ 9 10 11 12]]\n"
          ],
          "name": "stdout"
        }
      ]
    },
    {
      "cell_type": "code",
      "metadata": {
        "colab": {
          "base_uri": "https://localhost:8080/"
        },
        "id": "4BBtImZSgwFc",
        "outputId": "b29002d6-198a-40c6-8129-c00f5269052c"
      },
      "source": [
        "i = h[:2, 1:3]\n",
        "print(i)"
      ],
      "execution_count": null,
      "outputs": [
        {
          "output_type": "stream",
          "text": [
            "[[2 3]\n",
            " [6 7]]\n"
          ],
          "name": "stdout"
        }
      ]
    },
    {
      "cell_type": "code",
      "metadata": {
        "colab": {
          "base_uri": "https://localhost:8080/"
        },
        "id": "HE5Mj0iXhMNS",
        "outputId": "95bca2e9-74ea-4b9d-ecb6-54b04ffea2c7"
      },
      "source": [
        "np.sum(h,axis=0)\n",
        "np.sum(h,axis=1)"
      ],
      "execution_count": null,
      "outputs": [
        {
          "output_type": "execute_result",
          "data": {
            "text/plain": [
              "array([10, 26, 42])"
            ]
          },
          "metadata": {
            "tags": []
          },
          "execution_count": 44
        }
      ]
    },
    {
      "cell_type": "code",
      "metadata": {
        "colab": {
          "base_uri": "https://localhost:8080/"
        },
        "id": "lUVF_uebiL65",
        "outputId": "f77d4a85-1a7d-4501-dab1-278b8dbcf611"
      },
      "source": [
        "np.max(h)"
      ],
      "execution_count": null,
      "outputs": [
        {
          "output_type": "execute_result",
          "data": {
            "text/plain": [
              "12"
            ]
          },
          "metadata": {
            "tags": []
          },
          "execution_count": 45
        }
      ]
    },
    {
      "cell_type": "code",
      "metadata": {
        "colab": {
          "base_uri": "https://localhost:8080/"
        },
        "id": "Da08aQ-fiPzO",
        "outputId": "c5175610-9667-40a6-ae45-1ffb8055243e"
      },
      "source": [
        "h.T"
      ],
      "execution_count": null,
      "outputs": [
        {
          "output_type": "execute_result",
          "data": {
            "text/plain": [
              "array([[ 1,  5,  9],\n",
              "       [ 2,  6, 10],\n",
              "       [ 3,  7, 11],\n",
              "       [ 4,  8, 12]])"
            ]
          },
          "metadata": {
            "tags": []
          },
          "execution_count": 46
        }
      ]
    }
  ]
}