{
  "nbformat": 4,
  "nbformat_minor": 0,
  "metadata": {
    "colab": {
      "name": "Lesson17-IfElse.ipynb",
      "provenance": [],
      "collapsed_sections": [],
      "authorship_tag": "ABX9TyMXKl1/eoKKu3YEV8gvlFAG",
      "include_colab_link": true
    },
    "kernelspec": {
      "name": "python3",
      "display_name": "Python 3"
    },
    "language_info": {
      "name": "python"
    }
  },
  "cells": [
    {
      "cell_type": "markdown",
      "metadata": {
        "id": "view-in-github",
        "colab_type": "text"
      },
      "source": [
        "<a href=\"https://colab.research.google.com/github/avkornaev/Python-for-image-processing-course/blob/main/Lesson17_IfElse.ipynb\" target=\"_parent\"><img src=\"https://colab.research.google.com/assets/colab-badge.svg\" alt=\"Open In Colab\"/></a>"
      ]
    },
    {
      "cell_type": "code",
      "metadata": {
        "colab": {
          "base_uri": "https://localhost:8080/"
        },
        "id": "Fn8Xmru80VuX",
        "outputId": "ea88df22-4f2f-431d-92df-33dfa800e36a"
      },
      "source": [
        "a = 20\n",
        "b = 30\n",
        "\n",
        "if a<b and a!=100:\n",
        "  print(\"Hey, a is smaller than b\")\n",
        "  if a==20:\n",
        "    print(\"a is equal to 20\") \n",
        "elif a==b:\n",
        "  print(\"These two values are equal\")\n",
        "else:\n",
        "  print(\"Hmm, looks like a is greater than b\")"
      ],
      "execution_count": 11,
      "outputs": [
        {
          "output_type": "stream",
          "text": [
            "Hey, a is smaller than b\n",
            "a is equal to 20\n"
          ],
          "name": "stdout"
        }
      ]
    }
  ]
}