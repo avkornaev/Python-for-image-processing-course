{
  "nbformat": 4,
  "nbformat_minor": 0,
  "metadata": {
    "colab": {
      "name": "Lesson21-LambdaFunctions.ipynb",
      "provenance": [],
      "collapsed_sections": [],
      "authorship_tag": "ABX9TyP721eT6+rzrxXB4fPv6fJR",
      "include_colab_link": true
    },
    "kernelspec": {
      "name": "python3",
      "display_name": "Python 3"
    },
    "language_info": {
      "name": "python"
    }
  },
  "cells": [
    {
      "cell_type": "markdown",
      "metadata": {
        "id": "view-in-github",
        "colab_type": "text"
      },
      "source": [
        "<a href=\"https://colab.research.google.com/github/avkornaev/Python-for-image-processing-course/blob/main/Lesson21_LambdaFunctions.ipynb\" target=\"_parent\"><img src=\"https://colab.research.google.com/assets/colab-badge.svg\" alt=\"Open In Colab\"/></a>"
      ]
    },
    {
      "cell_type": "markdown",
      "metadata": {
        "id": "efvlC01z2WQi"
      },
      "source": [
        "They don't have any name, kind of ... I don't remember "
      ]
    },
    {
      "cell_type": "markdown",
      "metadata": {
        "id": "Jjx_tBq025VC"
      },
      "source": [
        "Reminding"
      ]
    },
    {
      "cell_type": "code",
      "metadata": {
        "colab": {
          "base_uri": "https://localhost:8080/"
        },
        "id": "wW_oUyhz2Moe",
        "outputId": "cf58b8c4-c872-4f8f-ffd5-ae5d9491a9ad"
      },
      "source": [
        "def squared(x):\n",
        "  return x**2\n",
        "\n",
        "print(squared(4))\n"
      ],
      "execution_count": 16,
      "outputs": [
        {
          "output_type": "stream",
          "text": [
            "16\n"
          ],
          "name": "stdout"
        }
      ]
    },
    {
      "cell_type": "markdown",
      "metadata": {
        "id": "4TJSI9Kl3Avp"
      },
      "source": [
        "Lambda function"
      ]
    },
    {
      "cell_type": "code",
      "metadata": {
        "colab": {
          "base_uri": "https://localhost:8080/"
        },
        "id": "rWHBcvDu277R",
        "outputId": "3b3c1462-043b-4f05-9dce-a5fd6028eaf0"
      },
      "source": [
        "a = lambda x, y: x**2+y**2\n",
        "print(a(4,2))"
      ],
      "execution_count": 17,
      "outputs": [
        {
          "output_type": "stream",
          "text": [
            "20\n"
          ],
          "name": "stdout"
        }
      ]
    },
    {
      "cell_type": "markdown",
      "metadata": {
        "id": "xBdo4iwC4kDO"
      },
      "source": [
        "Distance calculation: s = v*t +0.5*a*t**2 "
      ]
    },
    {
      "cell_type": "code",
      "metadata": {
        "colab": {
          "base_uri": "https://localhost:8080/"
        },
        "id": "ovVm2sQB3mpI",
        "outputId": "1279e338-0ae5-4a7f-fc19-7f2149a976b7"
      },
      "source": [
        "def distance_eqn(v,a):\n",
        "  return lambda t: v*t +0.5*a*t**2\n",
        "\n",
        "dist=distance_eqn(5,10)\n",
        "print(dist(20))\n",
        "\n",
        "time = []#time list\n",
        "dist = []#distance list"
      ],
      "execution_count": 18,
      "outputs": [
        {
          "output_type": "stream",
          "text": [
            "2100.0\n"
          ],
          "name": "stdout"
        }
      ]
    },
    {
      "cell_type": "code",
      "metadata": {
        "colab": {
          "base_uri": "https://localhost:8080/",
          "height": 282
        },
        "id": "0BfMUyfv5c0m",
        "outputId": "bacf3a61-faf3-4eb8-c9cb-e9f82894a1e0"
      },
      "source": [
        "from matplotlib import pyplot as plt\n",
        "v=5\n",
        "a=10\n",
        "\n",
        "for t in range(0,22,2):\n",
        "  d = distance_eqn(v,a)(t)\n",
        "  time.append(t)\n",
        "  dist.append(d)\n",
        "\n",
        "plt.plot(time,dist)"
      ],
      "execution_count": 19,
      "outputs": [
        {
          "output_type": "execute_result",
          "data": {
            "text/plain": [
              "[<matplotlib.lines.Line2D at 0x7f47c2b0b990>]"
            ]
          },
          "metadata": {
            "tags": []
          },
          "execution_count": 19
        },
        {
          "output_type": "display_data",
          "data": {
            "image/png": "[encoded data removed]",
            "text/plain": [
              "<Figure size 432x288 with 1 Axes>"
            ]
          },
          "metadata": {
            "tags": [],
            "needs_background": "light"
          }
        }
      ]
    }
  ]
}