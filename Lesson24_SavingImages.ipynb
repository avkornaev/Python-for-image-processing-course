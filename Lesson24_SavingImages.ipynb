{
  "nbformat": 4,
  "nbformat_minor": 0,
  "metadata": {
    "colab": {
      "name": "Lesson24-SavingImages.ipynb",
      "provenance": [],
      "collapsed_sections": [],
      "mount_file_id": "1ykP0Y73c1PsTFNcaCVAoeRAeysMIDNxy",
      "authorship_tag": "ABX9TyPqyiv4eVv53EgaXFZVRDfr",
      "include_colab_link": true
    },
    "kernelspec": {
      "name": "python3",
      "display_name": "Python 3"
    },
    "language_info": {
      "name": "python"
    }
  },
  "cells": [
    {
      "cell_type": "markdown",
      "metadata": {
        "id": "view-in-github",
        "colab_type": "text"
      },
      "source": [
        "<a href=\"https://colab.research.google.com/github/avkornaev/Python-for-image-processing-course/blob/main/Lesson24_SavingImages.ipynb\" target=\"_parent\"><img src=\"https://colab.research.google.com/assets/colab-badge.svg\" alt=\"Open In Colab\"/></a>"
      ]
    },
    {
      "cell_type": "code",
      "metadata": {
        "colab": {
          "base_uri": "https://localhost:8080/"
        },
        "id": "CzWIdEjUgjkE",
        "outputId": "d112b404-39fc-4732-9d33-6c5d6e8d9432"
      },
      "source": [
        "from skimage import io, filters, img_as_ubyte\n",
        "import cv2\n",
        "\n",
        "img = cv2.imread('/content/drive/MyDrive/Cells_count/Osteosarcoma_01.tif')\n",
        "gaussian_img = filters.gaussian(img,sigma = 3)\n",
        "gaussian_img_8bit = img_as_ubyte(gaussian_img)\n",
        "gaussian_img_8bit_RGB = cv2.cvtColor(gaussian_img_8bit, cv2.COLOR_BGR2RGB)"
      ],
      "execution_count": 18,
      "outputs": [
        {
          "output_type": "stream",
          "text": [
            "/usr/local/lib/python3.7/dist-packages/ipykernel_launcher.py:5: RuntimeWarning: Images with dimensions (M, N, 3) are interpreted as 2D+RGB by default. Use `multichannel=False` to interpret as 3D image with last dimension of length 3.\n",
            "  \"\"\"\n"
          ],
          "name": "stderr"
        }
      ]
    },
    {
      "cell_type": "code",
      "metadata": {
        "colab": {
          "base_uri": "https://localhost:8080/"
        },
        "id": "RdG4b3l-iKb_",
        "outputId": "72dc3611-5cc0-47c8-857b-fd560bd474ec"
      },
      "source": [
        "cv2.imwrite('/content/drive/MyDrive/Cells_count/Osteosarcoma_02.jpg', gaussian_img_8bit)"
      ],
      "execution_count": 20,
      "outputs": [
        {
          "output_type": "execute_result",
          "data": {
            "text/plain": [
              "True"
            ]
          },
          "metadata": {
            "tags": []
          },
          "execution_count": 20
        }
      ]
    },
    {
      "cell_type": "code",
      "metadata": {
        "id": "t7y9332fk1ql"
      },
      "source": [
        "from matplotlib import pyplot as plt\n",
        "plt.imsave('/content/drive/MyDrive/Cells_count/Osteosarcoma_03.jpg', gaussian_img_8bit)"
      ],
      "execution_count": 23,
      "outputs": []
    }
  ]
}