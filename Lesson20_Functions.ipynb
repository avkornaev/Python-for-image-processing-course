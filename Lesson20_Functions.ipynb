{
  "nbformat": 4,
  "nbformat_minor": 0,
  "metadata": {
    "colab": {
      "name": "Lesson20-Functions.ipynb",
      "provenance": [],
      "collapsed_sections": [],
      "authorship_tag": "ABX9TyM0ECb8slaphKY5/S0jhIh8",
      "include_colab_link": true
    },
    "kernelspec": {
      "name": "python3",
      "display_name": "Python 3"
    },
    "language_info": {
      "name": "python"
    }
  },
  "cells": [
    {
      "cell_type": "markdown",
      "metadata": {
        "id": "view-in-github",
        "colab_type": "text"
      },
      "source": [
        "<a href=\"https://colab.research.google.com/github/avkornaev/Python-for-image-processing-course/blob/main/Lesson20_Functions.ipynb\" target=\"_parent\"><img src=\"https://colab.research.google.com/assets/colab-badge.svg\" alt=\"Open In Colab\"/></a>"
      ]
    },
    {
      "cell_type": "code",
      "metadata": {
        "id": "V597G9mAQi_j"
      },
      "source": [
        "def my_function():\n",
        "  print(\"Hi!\")"
      ],
      "execution_count": 5,
      "outputs": []
    },
    {
      "cell_type": "code",
      "metadata": {
        "id": "sk6sroOPREMy"
      },
      "source": [
        "def my_function2(name=\"John\"):\n",
        "  print(\"your name is: \", name)"
      ],
      "execution_count": 6,
      "outputs": []
    },
    {
      "cell_type": "code",
      "metadata": {
        "id": "2pNDa2TuXTmo"
      },
      "source": [
        ""
      ],
      "execution_count": null,
      "outputs": []
    },
    {
      "cell_type": "markdown",
      "metadata": {
        "id": "_2fhx5i6XUXu"
      },
      "source": [
        ""
      ]
    },
    {
      "cell_type": "code",
      "metadata": {
        "colab": {
          "base_uri": "https://localhost:8080/"
        },
        "id": "3Z5Ku2ReRxYz",
        "outputId": "c29f9f80-9fa7-4d36-ee62-98a17d0e4c1c"
      },
      "source": [
        "my_function2(\"Alexey\")"
      ],
      "execution_count": 7,
      "outputs": [
        {
          "output_type": "stream",
          "text": [
            "your name is:  Alexey\n"
          ],
          "name": "stdout"
        }
      ]
    },
    {
      "cell_type": "code",
      "metadata": {
        "colab": {
          "base_uri": "https://localhost:8080/"
        },
        "id": "NL20cl_SSBgo",
        "outputId": "693c8158-0b56-43de-b965-7a47d397e96e"
      },
      "source": [
        "my_function2()"
      ],
      "execution_count": 8,
      "outputs": [
        {
          "output_type": "stream",
          "text": [
            "your name is:  John\n"
          ],
          "name": "stdout"
        }
      ]
    },
    {
      "cell_type": "code",
      "metadata": {
        "id": "dt7wP9PBSIGA"
      },
      "source": [
        "names = [\"Alexey\",\"Elena\",\"Mathew\"]\n",
        "def my_function3(names):\n",
        "  for x in names:\n",
        "    print(x)"
      ],
      "execution_count": 9,
      "outputs": []
    },
    {
      "cell_type": "code",
      "metadata": {
        "colab": {
          "base_uri": "https://localhost:8080/"
        },
        "id": "FrC2Z8rzTFUu",
        "outputId": "ce2179cb-3442-438f-e16a-8ec518ccc214"
      },
      "source": [
        "my_function3(names)"
      ],
      "execution_count": 10,
      "outputs": [
        {
          "output_type": "stream",
          "text": [
            "Alexey\n",
            "Elena\n",
            "Mathew\n"
          ],
          "name": "stdout"
        }
      ]
    },
    {
      "cell_type": "code",
      "metadata": {
        "id": "yHaU-lrnTYdl"
      },
      "source": [
        "def add_numbers(a,b):\n",
        "  c = a + b\n",
        "  d = a-b\n",
        "  return c, d\n"
      ],
      "execution_count": 14,
      "outputs": []
    },
    {
      "cell_type": "code",
      "metadata": {
        "colab": {
          "base_uri": "https://localhost:8080/"
        },
        "id": "ZK7UK0efTlvd",
        "outputId": "7fe61d19-093a-41b4-94f4-5861af9f0bdc"
      },
      "source": [
        "print(add_numbers(5,3))"
      ],
      "execution_count": 15,
      "outputs": [
        {
          "output_type": "stream",
          "text": [
            "(8, 2)\n"
          ],
          "name": "stdout"
        }
      ]
    },
    {
      "cell_type": "code",
      "metadata": {
        "id": "ISWLDZOwT09F"
      },
      "source": [
        ""
      ],
      "execution_count": null,
      "outputs": []
    }
  ]
}