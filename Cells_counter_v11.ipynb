{
  "nbformat": 4,
  "nbformat_minor": 0,
  "metadata": {
    "colab": {
      "name": "Cells_counter_v11",
      "provenance": [],
      "collapsed_sections": [],
      "mount_file_id": "1NK2wysdTZkrV8umn6Pr1ifnEeH6OPs89",
      "authorship_tag": "ABX9TyOW62WY402rBngao8CItxM/",
      "include_colab_link": true
    },
    "kernelspec": {
      "display_name": "Python 3",
      "name": "python3"
    },
    "language_info": {
      "name": "python"
    }
  },
  "cells": [
    {
      "cell_type": "markdown",
      "metadata": {
        "id": "view-in-github",
        "colab_type": "text"
      },
      "source": [
        "<a href=\"https://colab.research.google.com/github/avkornaev/Python-for-image-processing-course/blob/main/Cells_counter_v11.ipynb\" target=\"_parent\"><img src=\"https://colab.research.google.com/assets/colab-badge.svg\" alt=\"Open In Colab\"/></a>"
      ]
    },
    {
      "cell_type": "markdown",
      "metadata": {
        "id": "PQY2xOF_dr6c"
      },
      "source": [
        "Summary\n",
        "\n",
        "The cells counter algorithm is based on watershed method. If you want to know more, please check the following links: https://imagej.net/plugins/classic-watershed,\n",
        "https://docs.opencv.org/master/d3/db4/tutorial_py_watershed.html"
      ]
    },
    {
      "cell_type": "markdown",
      "metadata": {
        "id": "QvjlGUA_90C2"
      },
      "source": [
        "**Install libraries**.\n",
        "\n",
        "Execute code bellow just once to install the libraries. Then you may comment 'pip' lines using # in the begining of lines of the code."
      ]
    },
    {
      "cell_type": "code",
      "metadata": {
        "id": "JOSgxVVtwhBQ",
        "colab": {
          "base_uri": "https://localhost:8080/"
        },
        "outputId": "3d0ddb16-62c3-4de1-bbbf-4ca452343868"
      },
      "source": [
        "!pip install -Uqq fastbook\n",
        "!pip install czifile\n",
        "!pip install tifffile\n",
        "!pip install imagecodecs"
      ],
      "execution_count": null,
      "outputs": [
        {
          "output_type": "stream",
          "text": [
            "\u001b[?25l\r\u001b[K     |▌                               | 10 kB 22.8 MB/s eta 0:00:01\r\u001b[K     |█                               | 20 kB 28.4 MB/s eta 0:00:01\r\u001b[K     |█▍                              | 30 kB 19.1 MB/s eta 0:00:01\r\u001b[K     |█▉                              | 40 kB 13.7 MB/s eta 0:00:01\r\u001b[K     |██▎                             | 51 kB 5.6 MB/s eta 0:00:01\r\u001b[K     |██▊                             | 61 kB 6.0 MB/s eta 0:00:01\r\u001b[K     |███▏                            | 71 kB 5.4 MB/s eta 0:00:01\r\u001b[K     |███▋                            | 81 kB 6.1 MB/s eta 0:00:01\r\u001b[K     |████                            | 92 kB 6.0 MB/s eta 0:00:01\r\u001b[K     |████▌                           | 102 kB 5.3 MB/s eta 0:00:01\r\u001b[K     |█████                           | 112 kB 5.3 MB/s eta 0:00:01\r\u001b[K     |█████▌                          | 122 kB 5.3 MB/s eta 0:00:01\r\u001b[K     |██████                          | 133 kB 5.3 MB/s eta 0:00:01\r\u001b[K     |██████▍                         | 143 kB 5.3 MB/s eta 0:00:01\r\u001b[K     |██████▉                         | 153 kB 5.3 MB/s eta 0:00:01\r\u001b[K     |███████▎                        | 163 kB 5.3 MB/s eta 0:00:01\r\u001b[K     |███████▊                        | 174 kB 5.3 MB/s eta 0:00:01\r\u001b[K     |████████▏                       | 184 kB 5.3 MB/s eta 0:00:01\r\u001b[K     |████████▋                       | 194 kB 5.3 MB/s eta 0:00:01\r\u001b[K     |█████████                       | 204 kB 5.3 MB/s eta 0:00:01\r\u001b[K     |█████████▋                      | 215 kB 5.3 MB/s eta 0:00:01\r\u001b[K     |██████████                      | 225 kB 5.3 MB/s eta 0:00:01\r\u001b[K     |██████████▌                     | 235 kB 5.3 MB/s eta 0:00:01\r\u001b[K     |███████████                     | 245 kB 5.3 MB/s eta 0:00:01\r\u001b[K     |███████████▍                    | 256 kB 5.3 MB/s eta 0:00:01\r\u001b[K     |███████████▉                    | 266 kB 5.3 MB/s eta 0:00:01\r\u001b[K     |████████████▎                   | 276 kB 5.3 MB/s eta 0:00:01\r\u001b[K     |████████████▊                   | 286 kB 5.3 MB/s eta 0:00:01\r\u001b[K     |█████████████▏                  | 296 kB 5.3 MB/s eta 0:00:01\r\u001b[K     |█████████████▋                  | 307 kB 5.3 MB/s eta 0:00:01\r\u001b[K     |██████████████                  | 317 kB 5.3 MB/s eta 0:00:01\r\u001b[K     |██████████████▋                 | 327 kB 5.3 MB/s eta 0:00:01\r\u001b[K     |███████████████                 | 337 kB 5.3 MB/s eta 0:00:01\r\u001b[K     |███████████████▌                | 348 kB 5.3 MB/s eta 0:00:01\r\u001b[K     |████████████████                | 358 kB 5.3 MB/s eta 0:00:01\r\u001b[K     |████████████████▍               | 368 kB 5.3 MB/s eta 0:00:01\r\u001b[K     |████████████████▉               | 378 kB 5.3 MB/s eta 0:00:01\r\u001b[K     |█████████████████▎              | 389 kB 5.3 MB/s eta 0:00:01\r\u001b[K     |█████████████████▊              | 399 kB 5.3 MB/s eta 0:00:01\r\u001b[K     |██████████████████▏             | 409 kB 5.3 MB/s eta 0:00:01\r\u001b[K     |██████████████████▋             | 419 kB 5.3 MB/s eta 0:00:01\r\u001b[K     |███████████████████▏            | 430 kB 5.3 MB/s eta 0:00:01\r\u001b[K     |███████████████████▋            | 440 kB 5.3 MB/s eta 0:00:01\r\u001b[K     |████████████████████            | 450 kB 5.3 MB/s eta 0:00:01\r\u001b[K     |████████████████████▌           | 460 kB 5.3 MB/s eta 0:00:01\r\u001b[K     |█████████████████████           | 471 kB 5.3 MB/s eta 0:00:01\r\u001b[K     |█████████████████████▍          | 481 kB 5.3 MB/s eta 0:00:01\r\u001b[K     |█████████████████████▉          | 491 kB 5.3 MB/s eta 0:00:01\r\u001b[K     |██████████████████████▎         | 501 kB 5.3 MB/s eta 0:00:01\r\u001b[K     |██████████████████████▊         | 512 kB 5.3 MB/s eta 0:00:01\r\u001b[K     |███████████████████████▏        | 522 kB 5.3 MB/s eta 0:00:01\r\u001b[K     |███████████████████████▋        | 532 kB 5.3 MB/s eta 0:00:01\r\u001b[K     |████████████████████████▏       | 542 kB 5.3 MB/s eta 0:00:01\r\u001b[K     |████████████████████████▋       | 552 kB 5.3 MB/s eta 0:00:01\r\u001b[K     |█████████████████████████       | 563 kB 5.3 MB/s eta 0:00:01\r\u001b[K     |█████████████████████████▌      | 573 kB 5.3 MB/s eta 0:00:01\r\u001b[K     |██████████████████████████      | 583 kB 5.3 MB/s eta 0:00:01\r\u001b[K     |██████████████████████████▍     | 593 kB 5.3 MB/s eta 0:00:01\r\u001b[K     |██████████████████████████▉     | 604 kB 5.3 MB/s eta 0:00:01\r\u001b[K     |███████████████████████████▎    | 614 kB 5.3 MB/s eta 0:00:01\r\u001b[K     |███████████████████████████▊    | 624 kB 5.3 MB/s eta 0:00:01\r\u001b[K     |████████████████████████████▏   | 634 kB 5.3 MB/s eta 0:00:01\r\u001b[K     |████████████████████████████▊   | 645 kB 5.3 MB/s eta 0:00:01\r\u001b[K     |█████████████████████████████▏  | 655 kB 5.3 MB/s eta 0:00:01\r\u001b[K     |█████████████████████████████▋  | 665 kB 5.3 MB/s eta 0:00:01\r\u001b[K     |██████████████████████████████  | 675 kB 5.3 MB/s eta 0:00:01\r\u001b[K     |██████████████████████████████▌ | 686 kB 5.3 MB/s eta 0:00:01\r\u001b[K     |███████████████████████████████ | 696 kB 5.3 MB/s eta 0:00:01\r\u001b[K     |███████████████████████████████▍| 706 kB 5.3 MB/s eta 0:00:01\r\u001b[K     |███████████████████████████████▉| 716 kB 5.3 MB/s eta 0:00:01\r\u001b[K     |████████████████████████████████| 720 kB 5.3 MB/s \n",
            "\u001b[K     |████████████████████████████████| 188 kB 62.4 MB/s \n",
            "\u001b[K     |████████████████████████████████| 46 kB 2.9 MB/s \n",
            "\u001b[K     |████████████████████████████████| 1.2 MB 44.2 MB/s \n",
            "\u001b[K     |████████████████████████████████| 56 kB 3.0 MB/s \n",
            "\u001b[K     |████████████████████████████████| 51 kB 242 kB/s \n",
            "\u001b[?25hCollecting czifile\n",
            "  Downloading czifile-2019.7.2-py2.py3-none-any.whl (18 kB)\n",
            "Requirement already satisfied: tifffile>=2019.7.2 in /usr/local/lib/python3.7/dist-packages (from czifile) (2021.7.2)\n",
            "Requirement already satisfied: numpy>=1.11.3 in /usr/local/lib/python3.7/dist-packages (from czifile) (1.19.5)\n",
            "Installing collected packages: czifile\n",
            "Successfully installed czifile-2019.7.2\n",
            "Requirement already satisfied: tifffile in /usr/local/lib/python3.7/dist-packages (2021.7.2)\n",
            "Requirement already satisfied: numpy>=1.15.1 in /usr/local/lib/python3.7/dist-packages (from tifffile) (1.19.5)\n",
            "Collecting imagecodecs\n",
            "  Downloading imagecodecs-2021.7.30-cp37-cp37m-manylinux_2_17_x86_64.manylinux2014_x86_64.whl (29.6 MB)\n",
            "\u001b[K     |████████████████████████████████| 29.6 MB 24 kB/s \n",
            "\u001b[?25hRequirement already satisfied: numpy>=1.15.1 in /usr/local/lib/python3.7/dist-packages (from imagecodecs) (1.19.5)\n",
            "Installing collected packages: imagecodecs\n",
            "Successfully installed imagecodecs-2021.7.30\n"
          ],
          "name": "stdout"
        }
      ]
    },
    {
      "cell_type": "markdown",
      "metadata": {
        "id": "Y65lCifZTz7u"
      },
      "source": [
        ""
      ]
    },
    {
      "cell_type": "markdown",
      "metadata": {
        "id": "x-4KWkun_4cg"
      },
      "source": [
        "**Connect to Google disk.**"
      ]
    },
    {
      "cell_type": "code",
      "metadata": {
        "id": "nWfh1iaz__LW",
        "colab": {
          "base_uri": "https://localhost:8080/"
        },
        "outputId": "c7834bc0-4709-47d4-9cfd-c8007ece45df"
      },
      "source": [
        "\n",
        "from google.colab import drive\n",
        "drive.mount('/content/drive')"
      ],
      "execution_count": null,
      "outputs": [
        {
          "output_type": "stream",
          "text": [
            "Mounted at /content/drive\n"
          ],
          "name": "stdout"
        }
      ]
    },
    {
      "cell_type": "markdown",
      "metadata": {
        "id": "OqpYSO9X_056"
      },
      "source": [
        "**Import libraries.**"
      ]
    },
    {
      "cell_type": "code",
      "metadata": {
        "id": "88fVKPtEwtqk"
      },
      "source": [
        "import fastbook\n",
        "import cv2\n",
        "import numpy as np\n",
        "from matplotlib import pyplot as plt\n",
        "import matplotlib.patches as mpatches\n",
        "from google.colab.patches import cv2_imshow\n",
        "from scipy import ndimage\n",
        "from skimage import measure, color, io, img_as_ubyte, img_as_float\n",
        "from skimage.restoration import denoise_nl_means, estimate_sigma\n",
        "from skimage.segmentation import clear_border, join_segmentations\n",
        "import pandas as pd\n",
        "import czifile\n",
        "import imagecodecs"
      ],
      "execution_count": null,
      "outputs": []
    },
    {
      "cell_type": "markdown",
      "metadata": {
        "id": "lNtNiCnrNZgP"
      },
      "source": [
        "**Check the settings.**"
      ]
    },
    {
      "cell_type": "code",
      "metadata": {
        "id": "G2NvWwYNNZ3n"
      },
      "source": [
        "#Image under study\n",
        "img_path = '/content/drive/MyDrive/Cells_count/'\n",
        "img_title = 'B16_1122_2_2.czi' # 'B16_control 2_2.czi'\n",
        "pixels2microns = 0.396 #scale factor (check the image properties in Zen or Apeer)\n",
        "\n",
        "#Visualisation\n",
        "img_size = [0,0,1024,1024] # empty [] or rectangle coordinates, e.g. [0,0,512,512]\n",
        "fig_size = (30,30) # figures size\n",
        "img_map  = 'Blues' # image map. For example, 'gray','hot','jet','Blues' et al. If you want to know more, please type the following code: help(plt.imshow)\n",
        "img_map1 = 'jet'\n",
        "\n",
        "#Filtering\n",
        "kernel = np.ones((5,5),np.uint8) # (5,5) seems the best \n",
        "kernel4filt = 5 # 5 seems the best\n",
        "ps = 5 # patch_size. 5 seems the best\n",
        "patchDist = 3 # patch_distance. 3 seems the best\n",
        "hc = 115 # coefficient. 115 seems the best\n",
        "\n",
        "numberOfIter = 2 #number of iterations. 2 seems the best\n",
        "dist_transf_ratio = 0.1 # distance transform ratio. 0.1 seems the best\n",
        "dist_transf_param = 5 # 5 seems the best\n",
        "markers_bias = 100 # doesn't really matter\n",
        "\n",
        "clearBorder = 'off' # delete markers at the borders: 'on' or 'off'"
      ],
      "execution_count": null,
      "outputs": []
    },
    {
      "cell_type": "markdown",
      "metadata": {
        "id": "1AM_LXO0yt4q"
      },
      "source": [
        "**Download \"czi\" image and create slices of the image.**"
      ]
    },
    {
      "cell_type": "code",
      "metadata": {
        "colab": {
          "base_uri": "https://localhost:8080/",
          "height": 212
        },
        "id": "BAlRIDovKAoI",
        "outputId": "f9b755ba-db8d-4a9a-b4ce-e1bdf0716ce2"
      },
      "source": [
        "#flow chart visualisation\n",
        "gv('''filter[shape=box3d width=1 height=0.7] slice[shape=box3d width=1 height=1] threshold[shape=box3d width=1 height=0.7] denoise[shape=box3d width=1 height=0.7] identify[shape=box3d width=1 height=0.7] calculate[shape=box3d width=1 height=0.7]\n",
        "image->slice->filter->threshold->denoise->identify->calculate->results''')"
      ],
      "execution_count": null,
      "outputs": [
        {
          "output_type": "error",
          "ename": "NameError",
          "evalue": "ignored",
          "traceback": [
            "\u001b[0;31m---------------------------------------------------------------------------\u001b[0m",
            "\u001b[0;31mNameError\u001b[0m                                 Traceback (most recent call last)",
            "\u001b[0;32m<ipython-input-5-5c0f6536e622>\u001b[0m in \u001b[0;36m<module>\u001b[0;34m()\u001b[0m\n\u001b[1;32m      1\u001b[0m \u001b[0;31m#flow chart visualisation\u001b[0m\u001b[0;34m\u001b[0m\u001b[0;34m\u001b[0m\u001b[0;34m\u001b[0m\u001b[0m\n\u001b[0;32m----> 2\u001b[0;31m gv('''filter[shape=box3d width=1 height=0.7] slice[shape=box3d width=1 height=1] threshold[shape=box3d width=1 height=0.7] denoise[shape=box3d width=1 height=0.7] identify[shape=box3d width=1 height=0.7] calculate[shape=box3d width=1 height=0.7]\n\u001b[0m\u001b[1;32m      3\u001b[0m image->slice->filter->threshold->denoise->identify->calculate->results''')\n",
            "\u001b[0;31mNameError\u001b[0m: name 'gv' is not defined"
          ]
        }
      ]
    },
    {
      "cell_type": "code",
      "metadata": {
        "id": "F4hYjEvXyKvC"
      },
      "source": [
        "img = czifile.imread(img_path + img_title)\n",
        "\n",
        "if img_size == []:\n",
        "  img_size = [0,0,img.shape[5],img.shape[6]] # full size\n",
        "\n",
        "img_slice = img[0,0,0,:,0,img_size[0]:img_size[2],img_size[1]:img_size[3],0]# image in a form of 3D matrix\n",
        "img0 = img_slice[0,:,:] # 0 channel that is fluo4-T1 (highlights the apoptosed cells)\n",
        "img1 = img_slice[1,:,:] # 1 channel that is H3342-T2 (highlights all the cells)\n",
        "channels = [img0,img1] # channels of the image\n",
        "\n",
        "nc = len(channels)\n",
        "n = [i for i in range(nc)] # auxiliary variable \n",
        "\n",
        "print('CZI image shape: ',img.shape)# ?, ?, ?,number of chanels,x size,y size, ?\n",
        "for i in n:\n",
        "  print(i,'channel shape: ',channels[i].shape, channels[i].dtype, type(channels[i]))\n",
        "  print(np.amax(channels[i]))\n",
        "print('0 channel shape: ',img0.shape,img0.dtype,type(img0))\n",
        "print(np.amax(img0))\n",
        "print('1 channel shape: ',img1.shape,img1.dtype,type(img1))\n",
        "print(np.amax(img1))"
      ],
      "execution_count": null,
      "outputs": []
    },
    {
      "cell_type": "markdown",
      "metadata": {
        "id": "RzywdClhUOEP"
      },
      "source": [
        "**Create templates (empty lists).**"
      ]
    },
    {
      "cell_type": "code",
      "metadata": {
        "id": "xuya43jWUUH9"
      },
      "source": [
        "channelsF = [0]*nc # filtered channels template\n",
        "img_path_temp = [0]*nc # another one template\n",
        "channelsFGray = [0]*nc # and another one\n",
        "ret = [0]*nc # one more template\n",
        "thresh = [0]*nc # one more template\n",
        "opening = [0]*nc # one more template\n",
        "sure_bg = [0]*nc # one more template\n",
        "sure_fg = [0]*nc # one more template\n",
        "ret1 = [0]*nc # one more template\n",
        "dist_transform = [0]*nc # one more template\n",
        "unknown = [0]*nc # one more template\n",
        "ret2 = [0]*nc # one more template\n",
        "markers = [0]*nc # one more template\n",
        "channelsFB = [0]*nc # one more template\n",
        "channelsFW = [0]*nc # one more template\n",
        "regions = [0]*nc\n",
        "numberOfCells = [0]*nc"
      ],
      "execution_count": null,
      "outputs": []
    },
    {
      "cell_type": "markdown",
      "metadata": {
        "id": "DHjqavf0JJlK"
      },
      "source": [
        "**Filter channel images.**"
      ]
    },
    {
      "cell_type": "code",
      "metadata": {
        "id": "RDzJwx-bOuQ3"
      },
      "source": [
        "#sigma_est = [0]*nc\n",
        "#patch_kw = [0]*nc\n",
        "\n",
        "for i in n:\n",
        "  # \"denoise_nl_means\" performs non-local means denoising\n",
        "  sigma_est = np.mean(estimate_sigma(channels[i], multichannel=False))\n",
        "  patch_kw = dict(patch_size=ps, patch_distance=patchDist, multichannel=False)\n",
        "  channelsF[i] = denoise_nl_means(channels[i], h=hc*sigma_est, fast_mode=False, **patch_kw)\n",
        "  \n",
        "  channelsF[i] = np.uint16(channelsF[i])\n",
        "\n",
        "  # Apply a multidimensional median filter\n",
        "  channelsF[i] = ndimage.median_filter(channelsF[i], size=kernel4filt)\n",
        "\n",
        "  print(i,'channel sigma estimation = ',sigma_est)\n",
        "  print(i,'channel shape: ',channelsF[i].shape, channelsF[i].dtype, type(channelsF[i]))\n",
        "  print(np.amax(channelsF[i]))\n",
        "   "
      ],
      "execution_count": null,
      "outputs": []
    },
    {
      "cell_type": "markdown",
      "metadata": {
        "id": "6ytgjfUmPcy5"
      },
      "source": [
        "**Visualize channels before and after filtering.**"
      ]
    },
    {
      "cell_type": "code",
      "metadata": {
        "id": "ib0AKWxcMtws"
      },
      "source": [
        "titles = ['\"fluo4-T1\" channel highlights the apoptosed cells',\n",
        "          '\"H3342-T2\" channel highlights all the cells']\n",
        "plt.figure(figsize=(fig_size[0],fig_size[1]))\n",
        "for i in n:\n",
        "  plt.subplot(2,2,i+1)\n",
        "  plt.imshow(channels[i],cmap=img_map)\n",
        "  plt.title(titles[i])\n",
        "  plt.subplot(2,2,i+3)\n",
        "  plt.imshow(channelsF[i],cmap=img_map)\n",
        "  plt.title(titles[i]+'(filtered)')  "
      ],
      "execution_count": null,
      "outputs": []
    },
    {
      "cell_type": "code",
      "metadata": {
        "id": "53px4b4ZzOU0"
      },
      "source": [
        "#plt.figure(figsize=fig_size)\n",
        "#plt.imshow(channelsF[1],cmap = img_map)"
      ],
      "execution_count": null,
      "outputs": []
    },
    {
      "cell_type": "markdown",
      "metadata": {
        "id": "gmWUnnUvj_GI"
      },
      "source": [
        "**Create tepmorary files.**"
      ]
    },
    {
      "cell_type": "code",
      "metadata": {
        "id": "5RHxx2AekCuW"
      },
      "source": [
        "for i in n:\n",
        "  img_path_temp[i] = img_path + img_title[0:-4] + '_ch' + str(i) + '.tiff' # path 0\n",
        "  cv2.imwrite(img_path_temp[i], channelsF[i]) # save channels in a temporary tiff file\n",
        "print(img_path_temp)"
      ],
      "execution_count": null,
      "outputs": []
    },
    {
      "cell_type": "markdown",
      "metadata": {
        "id": "Q4lmnzK9zhJ6"
      },
      "source": [
        "**Read image using OpenCV.**"
      ]
    },
    {
      "cell_type": "code",
      "metadata": {
        "id": "srJBVZ9Cmef-"
      },
      "source": [
        "for i in n:\n",
        "  channelsFGray[i] = cv2.imread(img_path_temp[i],cv2.IMREAD_GRAYSCALE)\n",
        "  print(type(channelsFGray[i]),channelsFGray[i].shape,channelsFGray[i].dtype)"
      ],
      "execution_count": null,
      "outputs": []
    },
    {
      "cell_type": "markdown",
      "metadata": {
        "id": "DtSv4SQVD3Hx"
      },
      "source": [
        "**Threshold and delete noise.**\n",
        "\n",
        "Threshold image to binary using OTSU. All the thresholded pixels are set to 255. Then remove noise (opening) and remove edge touching with clear_border function (optional)."
      ]
    },
    {
      "cell_type": "code",
      "metadata": {
        "id": "0GyZKAnF0J4A"
      },
      "source": [
        "for i in n:\n",
        "  ret[i], thresh[i] = cv2.threshold(channelsFGray[i], 0, 255, \n",
        "                                    cv2.THRESH_BINARY+cv2.THRESH_OTSU)\n",
        "  opening[i] = cv2.morphologyEx(thresh[i],cv2.MORPH_OPEN,kernel,\n",
        "                                iterations = numberOfIter)\n",
        "  if clearBorder == 'on':\n",
        "    opening[i] = clear_border(opening[i])"
      ],
      "execution_count": null,
      "outputs": []
    },
    {
      "cell_type": "markdown",
      "metadata": {
        "id": "xK6WWrjqSVxe"
      },
      "source": [
        "**Identify background and foreground area (OpenCV - Distance Transformation). Apply watershed.**"
      ]
    },
    {
      "cell_type": "code",
      "metadata": {
        "id": "35phegXRSg71"
      },
      "source": [
        "for i in n:\n",
        "  sure_bg[i] = cv2.dilate(opening[i],\n",
        "                          kernel,iterations=numberOfIter) # sure background\n",
        "  dist_transform[i] = cv2.distanceTransform(opening[i],cv2.DIST_L2,\n",
        "                                            dist_transf_param)\n",
        "  \n",
        "  ret1[i], sure_fg[i] = cv2.threshold(dist_transform[i],\n",
        "                                      dist_transf_ratio*dist_transform[i].max(),\n",
        "                                      255,0)\n",
        "  sure_fg[i] = np.uint8(sure_fg[i]) # sure foreground\n",
        "  \n",
        "  unknown[i] = cv2.subtract(sure_bg[i], sure_fg[i])\n",
        "  ret2[i], markers[i] = cv2.connectedComponents(sure_fg[i])\n",
        "  markers[i] = markers[i] + markers_bias\n",
        "  markers[i][unknown[i]==255] = 0\n",
        "\n",
        "  markers[i] = cv2.watershed(cv2.imread(img_path_temp[i]),markers[i]) #The boundary regions will be marked as -1\n",
        "\n",
        "  channelsFB[i] = cv2.imread(img_path_temp[i])\n",
        "  channelsFB[i][markers[i] == -1] = [255,0,0]\n",
        "  channelsFW[i] = color.label2rgb(markers[i], bg_label = 0)"
      ],
      "execution_count": null,
      "outputs": []
    },
    {
      "cell_type": "code",
      "metadata": {
        "id": "G4uOOfuDWpwQ"
      },
      "source": [
        "plt.figure(figsize=(fig_size[0],fig_size[1]))\n",
        "for i in n:\n",
        "  plt.subplot(2,2,i+1)\n",
        "  plt.imshow(sure_fg[i],cmap='binary_r')\n",
        "  plt.title(titles[i]+'. Sure foreground.')\n",
        "  plt.subplot(2,2,i+3)\n",
        "  plt.imshow(markers[i],cmap=img_map1)\n",
        "  plt.title(titles[i]+ '. Markers.')"
      ],
      "execution_count": null,
      "outputs": []
    },
    {
      "cell_type": "markdown",
      "metadata": {
        "id": "woHHcdh5epoV"
      },
      "source": [
        "**Calculate metrics.**\n",
        "\n",
        "https://scikit-image.org/docs/dev/api/skimage.measure.html#skimage.measure.regionprops"
      ]
    },
    {
      "cell_type": "code",
      "metadata": {
        "id": "n3eEiXCveu9a"
      },
      "source": [
        "for i in n:\n",
        "  regions[i] = measure.regionprops(markers[i], intensity_image=channels[i])\n",
        "  numberOfCells[i] = len(regions[i])-1\n",
        "  #print(regions[i])\n",
        "print('Numbers of cells in channel images are equal to',numberOfCells)"
      ],
      "execution_count": null,
      "outputs": []
    },
    {
      "cell_type": "markdown",
      "metadata": {
        "id": "863mKRmLjgEr"
      },
      "source": [
        "**Visualise and save metrics data.**"
      ]
    },
    {
      "cell_type": "code",
      "metadata": {
        "id": "XPb6cGVVxLpB"
      },
      "source": [
        "d = [0]*nc\n",
        "df_temp = [0]*nc\n",
        "\n",
        "for i in n:\n",
        "  nr = [i for i in range(len(regions[i]))]\n",
        "  d[i] = pd.DataFrame()\n",
        "  for j in nr:\n",
        "    df_temp[i] = pd.DataFrame({'No':j, \n",
        "                          'Area (mum^2)':int(regions[i][j].area*(pixels2microns**2)),\n",
        "                          'Equiv.diam. (mum)': regions[i][j].equivalent_diameter*pixels2microns,\n",
        "                          'Major axis length (mum)':regions[i][j].major_axis_length*pixels2microns,\n",
        "                          'Minor axis length (mum)':regions[i][j].minor_axis_length*pixels2microns,\n",
        "                          'Mean intensity':regions[i][j].mean_intensity,\n",
        "                          'Euler number': regions[i][j].euler_number,\n",
        "                          'Centroid':[regions[i][j].centroid],\n",
        "                          'Bounding box':[regions[i][j].bbox]})\n",
        "    d[i] = pd.concat([d[i],df_temp[i]])\n",
        "    d[i].to_csv(img_path + img_title[0:-4] +'_channel_'+str(i) + '.csv')  "
      ],
      "execution_count": null,
      "outputs": []
    },
    {
      "cell_type": "code",
      "metadata": {
        "id": "_SBBdhOPmDKX"
      },
      "source": [
        "#Channel 0 (\"fluo4-T1\").\n",
        "d[0]"
      ],
      "execution_count": null,
      "outputs": []
    },
    {
      "cell_type": "code",
      "metadata": {
        "id": "z4s1Yeq5mMPV"
      },
      "source": [
        "#Channel 1 (\"H3342-T2\").\n",
        "d[1]"
      ],
      "execution_count": null,
      "outputs": []
    },
    {
      "cell_type": "markdown",
      "metadata": {
        "id": "EoZ11ErKUA1Z"
      },
      "source": [
        "**Visualize boundaries and cells.**"
      ]
    },
    {
      "cell_type": "code",
      "metadata": {
        "id": "dyonbyjkUFav"
      },
      "source": [
        "fig, ax = plt.subplots(figsize=(fig_size[0],fig_size[1]))\n",
        "for i in n:\n",
        "  plt.subplot(2,2,i+1)\n",
        "  plt.imshow(channelsFB[i],cmap=img_map)\n",
        "  plt.title(titles[i]+'. Detected boundaries.')\n",
        "  plt.subplot(2,2,i+3)\n",
        "  plt.imshow(channelsFW[i],cmap=img_map1)\n",
        "  plt.title(titles[i]+ '. ' + str(numberOfCells[i]) + ' cells were detected')"
      ],
      "execution_count": null,
      "outputs": []
    },
    {
      "cell_type": "code",
      "metadata": {
        "id": "0H5WyzevBmCY"
      },
      "source": [
        "channelsFW2 = join_segmentations(channelsFW[0], channelsFW[1])\n",
        "print(channelsFW2.shape,channelsFW2.dtype,type(channelsFW2))\n",
        "channelsFW2Gray = cv2.cvtColor(channelsFW2, cv2.COLOR_BGR2GRAY)\n",
        "print(channelsFW2Gray.shape,channelsFW2Gray.dtype,type(channelsFW2Gray))\n",
        "print(np.max(channelsFGray))\n",
        "ret2, thres2 = cv2.threshold(channelsFW2Gray, 0, 255, \n",
        "                                    cv2.THRESH_BINARY+cv2.THRESH_OTSU)\n",
        "#color2 = label2rgb(channelsFW2, image=coins, image_alpha=0.5, bg_label=-1)\n",
        "cv2_imshow(thres2)"
      ],
      "execution_count": null,
      "outputs": []
    },
    {
      "cell_type": "code",
      "metadata": {
        "id": "awe216TpDV3B"
      },
      "source": [
        "print(np.max(channelsFW2))\n",
        "print(np.max(channelsFW[1]))\n",
        "\n",
        "#plt.figure(figsize=(fig_size[0],fig_size[1]))\n",
        "#plt.imshow(channelsFW2,cmap=img_map1)"
      ],
      "execution_count": null,
      "outputs": []
    }
  ]
}