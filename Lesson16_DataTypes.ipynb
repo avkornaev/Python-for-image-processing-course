{
  "nbformat": 4,
  "nbformat_minor": 0,
  "metadata": {
    "colab": {
      "name": "Lesson16-DataTypes.ipynb",
      "provenance": [],
      "collapsed_sections": [],
      "authorship_tag": "ABX9TyMScZCqmaYQWMyhUX/akCmc",
      "include_colab_link": true
    },
    "kernelspec": {
      "name": "python3",
      "display_name": "Python 3"
    },
    "language_info": {
      "name": "python"
    }
  },
  "cells": [
    {
      "cell_type": "markdown",
      "metadata": {
        "id": "view-in-github",
        "colab_type": "text"
      },
      "source": [
        "<a href=\"https://colab.research.google.com/github/avkornaev/Python-for-image-processing-course/blob/main/Lesson16_DataTypes.ipynb\" target=\"_parent\"><img src=\"https://colab.research.google.com/assets/colab-badge.svg\" alt=\"Open In Colab\"/></a>"
      ]
    },
    {
      "cell_type": "markdown",
      "metadata": {
        "id": "ZEzgoFysSZfJ"
      },
      "source": [
        "Data types\n"
      ]
    },
    {
      "cell_type": "code",
      "metadata": {
        "colab": {
          "base_uri": "https://localhost:8080/"
        },
        "id": "lL1j3ONcSSrY",
        "outputId": "c84b8f3a-e0b0-4558-d10c-0120a7c87830"
      },
      "source": [
        "import numpy as np\n",
        "import cv2\n",
        "from skimage import io, img_as_float\n",
        "img1 = cv2.imread('/content/1122_1.tiff')\n",
        "print(type(img1))\n",
        "np.size(img1)"
      ],
      "execution_count": 12,
      "outputs": [
        {
          "output_type": "stream",
          "text": [
            "<class 'NoneType'>\n"
          ],
          "name": "stdout"
        },
        {
          "output_type": "execute_result",
          "data": {
            "text/plain": [
              "1"
            ]
          },
          "metadata": {
            "tags": []
          },
          "execution_count": 12
        }
      ]
    },
    {
      "cell_type": "code",
      "metadata": {
        "colab": {
          "base_uri": "https://localhost:8080/"
        },
        "id": "9ni7Le3RScby",
        "outputId": "98570e67-00f1-489e-a0fb-89a59ee03776"
      },
      "source": [
        "a = 'hello'\n",
        "type(a)"
      ],
      "execution_count": 13,
      "outputs": [
        {
          "output_type": "execute_result",
          "data": {
            "text/plain": [
              "str"
            ]
          },
          "metadata": {
            "tags": []
          },
          "execution_count": 13
        }
      ]
    },
    {
      "cell_type": "code",
      "metadata": {
        "colab": {
          "base_uri": "https://localhost:8080/"
        },
        "id": "2vNDnJBqSkux",
        "outputId": "ee316899-7a21-408a-cfdd-4335fd7ef073"
      },
      "source": [
        "c = 10.4\n",
        "d = int(c)\n",
        "print(c,d)"
      ],
      "execution_count": 14,
      "outputs": [
        {
          "output_type": "stream",
          "text": [
            "10.4 10\n"
          ],
          "name": "stdout"
        }
      ]
    },
    {
      "cell_type": "code",
      "metadata": {
        "colab": {
          "base_uri": "https://localhost:8080/"
        },
        "id": "WUtybFdhStYp",
        "outputId": "a599fc92-a17f-4a6e-eef2-0281dea5c720"
      },
      "source": [
        "a = [1,2,3,4,5]\n",
        "type(a)"
      ],
      "execution_count": 15,
      "outputs": [
        {
          "output_type": "execute_result",
          "data": {
            "text/plain": [
              "list"
            ]
          },
          "metadata": {
            "tags": []
          },
          "execution_count": 15
        }
      ]
    },
    {
      "cell_type": "code",
      "metadata": {
        "colab": {
          "base_uri": "https://localhost:8080/"
        },
        "id": "AmT9xZmgS__x",
        "outputId": "969683dd-d875-4fab-cc78-b9d84b9d72f5"
      },
      "source": [
        "a = 5\n",
        "b = 10\n",
        "a == b"
      ],
      "execution_count": 16,
      "outputs": [
        {
          "output_type": "execute_result",
          "data": {
            "text/plain": [
              "False"
            ]
          },
          "metadata": {
            "tags": []
          },
          "execution_count": 16
        }
      ]
    },
    {
      "cell_type": "markdown",
      "metadata": {
        "id": "1Sk5p_wrT92V"
      },
      "source": [
        "Types of image data\n",
        "uin8: 0 to 255\n",
        "uint16: 0 to 65535\n",
        "uint32: 0 to 2**(32-1)\n",
        "float: -1 to 1 or 0 to 1\n",
        "int8: -128 to 127\n",
        "in16:\n",
        "int32: -231 to 231"
      ]
    }
  ]
}