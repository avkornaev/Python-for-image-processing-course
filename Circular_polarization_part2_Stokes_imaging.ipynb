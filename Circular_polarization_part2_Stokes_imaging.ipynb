{
  "nbformat": 4,
  "nbformat_minor": 0,
  "metadata": {
    "colab": {
      "name": "Circular polarization-part2-Stokes imaging",
      "provenance": [],
      "collapsed_sections": [],
      "mount_file_id": "161zUxxUI5Pdhx9vhKF61qadbkAHMbE9O",
      "authorship_tag": "ABX9TyN95wPyYeGg0g7J44v9Wmxi",
      "include_colab_link": true
    },
    "kernelspec": {
      "display_name": "Python 3",
      "name": "python3"
    },
    "language_info": {
      "name": "python"
    }
  },
  "cells": [
    {
      "cell_type": "markdown",
      "metadata": {
        "id": "view-in-github",
        "colab_type": "text"
      },
      "source": [
        "<a href=\"https://colab.research.google.com/github/avkornaev/Python-for-image-processing-course/blob/main/Circular_polarization_part2_Stokes_imaging.ipynb\" target=\"_parent\"><img src=\"https://colab.research.google.com/assets/colab-badge.svg\" alt=\"Open In Colab\"/></a>"
      ]
    },
    {
      "cell_type": "markdown",
      "metadata": {
        "id": "PQY2xOF_dr6c"
      },
      "source": [
        "Summary.\n",
        "\n",
        "The data have NaN values that should be excluded.\n",
        "The processing algorithm is based on watershed method. If you want to know more, please check the following links: https://imagej.net/plugins/classic-watershed,\n",
        "https://docs.opencv.org/master/d3/db4/tutorial_py_watershed.html"
      ]
    },
    {
      "cell_type": "markdown",
      "metadata": {
        "id": "QvjlGUA_90C2"
      },
      "source": [
        "#**Install libraries**.\n",
        "\n",
        "Execute code bellow just once to install the libraries. Then you may comment 'pip' lines using # at the begining of lines of the code."
      ]
    },
    {
      "cell_type": "code",
      "metadata": {
        "colab": {
          "base_uri": "https://localhost:8080/"
        },
        "id": "JOSgxVVtwhBQ",
        "outputId": "d651a6d7-88e6-4d3e-fc4a-15316f992734"
      },
      "source": [
        "!pip install -Uqq fastbook\n",
        "!pip install mat4py"
      ],
      "execution_count": 1,
      "outputs": [
        {
          "output_type": "stream",
          "name": "stdout",
          "text": [
            "\u001b[K     |████████████████████████████████| 720 kB 29.4 MB/s \n",
            "\u001b[K     |████████████████████████████████| 1.2 MB 40.6 MB/s \n",
            "\u001b[K     |████████████████████████████████| 189 kB 60.7 MB/s \n",
            "\u001b[K     |████████████████████████████████| 46 kB 4.6 MB/s \n",
            "\u001b[K     |████████████████████████████████| 56 kB 4.3 MB/s \n",
            "\u001b[K     |████████████████████████████████| 51 kB 354 kB/s \n",
            "\u001b[?25hCollecting mat4py\n",
            "  Downloading mat4py-0.5.0-py2.py3-none-any.whl (13 kB)\n",
            "Installing collected packages: mat4py\n",
            "Successfully installed mat4py-0.5.0\n"
          ]
        }
      ]
    },
    {
      "cell_type": "markdown",
      "metadata": {
        "id": "x-4KWkun_4cg"
      },
      "source": [
        "#**Connect to Google disk.**"
      ]
    },
    {
      "cell_type": "code",
      "metadata": {
        "colab": {
          "base_uri": "https://localhost:8080/"
        },
        "id": "nWfh1iaz__LW",
        "outputId": "bd26cb91-6694-49e6-fbe2-19422fc987ce"
      },
      "source": [
        "from google.colab import drive\n",
        "drive.mount('/content/drive')"
      ],
      "execution_count": 2,
      "outputs": [
        {
          "output_type": "stream",
          "name": "stdout",
          "text": [
            "Drive already mounted at /content/drive; to attempt to forcibly remount, call drive.mount(\"/content/drive\", force_remount=True).\n"
          ]
        }
      ]
    },
    {
      "cell_type": "markdown",
      "metadata": {
        "id": "OqpYSO9X_056"
      },
      "source": [
        "# **Import libraries.**"
      ]
    },
    {
      "cell_type": "code",
      "metadata": {
        "id": "88fVKPtEwtqk"
      },
      "source": [
        "import fastbook\n",
        "from fastbook import *\n",
        "import cv2\n",
        "import numpy as np\n",
        "from matplotlib import pyplot as plt\n",
        "import matplotlib.patches as mpatches\n",
        "from google.colab.patches import cv2_imshow\n",
        "from scipy import ndimage\n",
        "from skimage import measure, color, io, img_as_ubyte, img_as_float\n",
        "from skimage.restoration import denoise_nl_means, estimate_sigma\n",
        "from skimage.segmentation import clear_border, join_segmentations\n",
        "import pandas as pd\n",
        "from mat4py import loadmat \n",
        "#import tifffile"
      ],
      "execution_count": 3,
      "outputs": []
    },
    {
      "cell_type": "markdown",
      "metadata": {
        "id": "lNtNiCnrNZgP"
      },
      "source": [
        "#**Check the settings.**"
      ]
    },
    {
      "cell_type": "code",
      "metadata": {
        "id": "G2NvWwYNNZ3n"
      },
      "source": [
        "#Image under study\n",
        "dict_path = '/content/drive/MyDrive/Circular_polarisation/1/'\n",
        "dict_titles = ['Cancer_scan3_sd=60.mat','stokes_norm.mat'] \n",
        "download_file = dict_titles[1] # 0 is for Cancer_scan, 1 is for stokes_norm\n",
        "img_title = 'dop_shift'\n",
        "\n",
        "#Visualisation\n",
        " #Sizes\n",
        "img_size = [] # empty [] if all the image should be downloaded, or rectangle coordinates, e.g. [0,0,1024,1024]\n",
        "fig_size = (30,30) # figures size\n",
        "img_map  = 'Blues' # image map. For example, 'gray','hot','jet','Blues' et al. If you want to know more, please type the following code: help(plt.imshow)\n",
        "img_map1 = 'jet'\n",
        " #Font\n",
        "font = cv2.FONT_HERSHEY_SIMPLEX\n",
        "fontScale = 1\n",
        "fontColor = (255,255,255)\n",
        "lineType  = 2\n",
        "\n",
        "#Filtering\n",
        "kernel = np.ones((5,5),np.uint8)\n",
        "kernel4filt = 5\n",
        "ps = 5 # patch_size\n",
        "patchDist = 3 # patch_distance\n",
        "hc = 1.15 # coefficient\n",
        "\n",
        "numberOfIter = 1 #number of iterations\n",
        "dist_transf_ratio = 0.1 # distance transform ratio\n",
        "dist_transf_param = 5\n",
        "markers_bias = 100\n",
        "\n",
        "clearBorder = 'off' # delete markers at the borders: 'on' or 'off'"
      ],
      "execution_count": 4,
      "outputs": []
    },
    {
      "cell_type": "markdown",
      "metadata": {
        "id": "1AM_LXO0yt4q"
      },
      "source": [
        "#**Download image.**"
      ]
    },
    {
      "cell_type": "code",
      "metadata": {
        "colab": {
          "base_uri": "https://localhost:8080/",
          "height": 128
        },
        "id": "BAlRIDovKAoI",
        "outputId": "ded53aff-5af9-4148-b46b-59324f130518"
      },
      "source": [
        "#flow chart visualisation\n",
        "gv('''slice[shape=box3d width=1 height=1] filter[shape=box3d width=1 height=0.7] threshold[shape=box3d width=1 height=0.7] denoise[shape=box3d width=1 height=0.7] identify[shape=box3d width=1 height=0.7] calculate[shape=box3d width=1 height=0.7]\n",
        "image->slice->filter->threshold->denoise->identify->calculate->results''')"
      ],
      "execution_count": 5,
      "outputs": [
        {
          "output_type": "execute_result",
          "data": {
            "text/plain": [
              "<graphviz.files.Source at 0x7f6e6e41d050>"
            ],
            "image/svg+xml": "<?xml version=\"1.0\" encoding=\"UTF-8\" standalone=\"no\"?>\n<!DOCTYPE svg PUBLIC \"-//W3C//DTD SVG 1.1//EN\"\n \"http://www.w3.org/Graphics/SVG/1.1/DTD/svg11.dtd\">\n<!-- Generated by graphviz version 2.40.1 (20161225.0304)\n -->\n<!-- Title: G Pages: 1 -->\n<svg width=\"827pt\" height=\"80pt\"\n viewBox=\"0.00 0.00 827.19 80.00\" xmlns=\"http://www.w3.org/2000/svg\" xmlns:xlink=\"http://www.w3.org/1999/xlink\">\n<g id=\"graph0\" class=\"graph\" transform=\"scale(1 1) rotate(0) translate(4 76)\">\n<title>G</title>\n<polygon fill=\"#ffffff\" stroke=\"transparent\" points=\"-4,4 -4,-76 823.188,-76 823.188,4 -4,4\"/>\n<!-- slice -->\n<g id=\"node1\" class=\"node\">\n<title>slice</title>\n<polygon fill=\"none\" stroke=\"#000000\" points=\"174.2941,-72 106.2941,-72 102.2941,-68 102.2941,0 170.2941,0 174.2941,-4 174.2941,-72\"/>\n<polyline fill=\"none\" stroke=\"#000000\" points=\"170.2941,-68 102.2941,-68 \"/>\n<polyline fill=\"none\" stroke=\"#000000\" points=\"170.2941,-68 170.2941,0 \"/>\n<polyline fill=\"none\" stroke=\"#000000\" points=\"170.2941,-68 174.2941,-72 \"/>\n<text text-anchor=\"middle\" x=\"138.2941\" y=\"-32.3\" font-family=\"Times,serif\" font-size=\"14.00\" fill=\"#000000\">slice</text>\n</g>\n<!-- filter -->\n<g id=\"node2\" class=\"node\">\n<title>filter</title>\n<polygon fill=\"none\" stroke=\"#000000\" points=\"282.2941,-61 214.2941,-61 210.2941,-57 210.2941,-11 278.2941,-11 282.2941,-15 282.2941,-61\"/>\n<polyline fill=\"none\" stroke=\"#000000\" points=\"278.2941,-57 210.2941,-57 \"/>\n<polyline fill=\"none\" stroke=\"#000000\" points=\"278.2941,-57 278.2941,-11 \"/>\n<polyline fill=\"none\" stroke=\"#000000\" points=\"278.2941,-57 282.2941,-61 \"/>\n<text text-anchor=\"middle\" x=\"246.2941\" y=\"-32.3\" font-family=\"Times,serif\" font-size=\"14.00\" fill=\"#000000\">filter</text>\n</g>\n<!-- slice&#45;&gt;filter -->\n<g id=\"edge2\" class=\"edge\">\n<title>slice&#45;&gt;filter</title>\n<path fill=\"none\" stroke=\"#000000\" d=\"M174.557,-36C182.6603,-36 191.363,-36 199.815,-36\"/>\n<polygon fill=\"#000000\" stroke=\"#000000\" points=\"199.9431,-39.5001 209.9431,-36 199.9431,-32.5001 199.9431,-39.5001\"/>\n</g>\n<!-- threshold -->\n<g id=\"node3\" class=\"node\">\n<title>threshold</title>\n<polygon fill=\"none\" stroke=\"#000000\" points=\"390.2941,-61 322.2941,-61 318.2941,-57 318.2941,-11 386.2941,-11 390.2941,-15 390.2941,-61\"/>\n<polyline fill=\"none\" stroke=\"#000000\" points=\"386.2941,-57 318.2941,-57 \"/>\n<polyline fill=\"none\" stroke=\"#000000\" points=\"386.2941,-57 386.2941,-11 \"/>\n<polyline fill=\"none\" stroke=\"#000000\" points=\"386.2941,-57 390.2941,-61 \"/>\n<text text-anchor=\"middle\" x=\"354.2941\" y=\"-32.3\" font-family=\"Times,serif\" font-size=\"14.00\" fill=\"#000000\">threshold</text>\n</g>\n<!-- filter&#45;&gt;threshold -->\n<g id=\"edge3\" class=\"edge\">\n<title>filter&#45;&gt;threshold</title>\n<path fill=\"none\" stroke=\"#000000\" d=\"M282.557,-36C290.6603,-36 299.363,-36 307.815,-36\"/>\n<polygon fill=\"#000000\" stroke=\"#000000\" points=\"307.9431,-39.5001 317.9431,-36 307.9431,-32.5001 307.9431,-39.5001\"/>\n</g>\n<!-- denoise -->\n<g id=\"node4\" class=\"node\">\n<title>denoise</title>\n<polygon fill=\"none\" stroke=\"#000000\" points=\"498.2941,-61 430.2941,-61 426.2941,-57 426.2941,-11 494.2941,-11 498.2941,-15 498.2941,-61\"/>\n<polyline fill=\"none\" stroke=\"#000000\" points=\"494.2941,-57 426.2941,-57 \"/>\n<polyline fill=\"none\" stroke=\"#000000\" points=\"494.2941,-57 494.2941,-11 \"/>\n<polyline fill=\"none\" stroke=\"#000000\" points=\"494.2941,-57 498.2941,-61 \"/>\n<text text-anchor=\"middle\" x=\"462.2941\" y=\"-32.3\" font-family=\"Times,serif\" font-size=\"14.00\" fill=\"#000000\">denoise</text>\n</g>\n<!-- threshold&#45;&gt;denoise -->\n<g id=\"edge4\" class=\"edge\">\n<title>threshold&#45;&gt;denoise</title>\n<path fill=\"none\" stroke=\"#000000\" d=\"M390.557,-36C398.6603,-36 407.363,-36 415.815,-36\"/>\n<polygon fill=\"#000000\" stroke=\"#000000\" points=\"415.9431,-39.5001 425.9431,-36 415.9431,-32.5001 415.9431,-39.5001\"/>\n</g>\n<!-- identify -->\n<g id=\"node5\" class=\"node\">\n<title>identify</title>\n<polygon fill=\"none\" stroke=\"#000000\" points=\"606.2941,-61 538.2941,-61 534.2941,-57 534.2941,-11 602.2941,-11 606.2941,-15 606.2941,-61\"/>\n<polyline fill=\"none\" stroke=\"#000000\" points=\"602.2941,-57 534.2941,-57 \"/>\n<polyline fill=\"none\" stroke=\"#000000\" points=\"602.2941,-57 602.2941,-11 \"/>\n<polyline fill=\"none\" stroke=\"#000000\" points=\"602.2941,-57 606.2941,-61 \"/>\n<text text-anchor=\"middle\" x=\"570.2941\" y=\"-32.3\" font-family=\"Times,serif\" font-size=\"14.00\" fill=\"#000000\">identify</text>\n</g>\n<!-- denoise&#45;&gt;identify -->\n<g id=\"edge5\" class=\"edge\">\n<title>denoise&#45;&gt;identify</title>\n<path fill=\"none\" stroke=\"#000000\" d=\"M498.557,-36C506.6603,-36 515.363,-36 523.815,-36\"/>\n<polygon fill=\"#000000\" stroke=\"#000000\" points=\"523.9431,-39.5001 533.9431,-36 523.9431,-32.5001 523.9431,-39.5001\"/>\n</g>\n<!-- calculate -->\n<g id=\"node6\" class=\"node\">\n<title>calculate</title>\n<polygon fill=\"none\" stroke=\"#000000\" points=\"714.2941,-61 646.2941,-61 642.2941,-57 642.2941,-11 710.2941,-11 714.2941,-15 714.2941,-61\"/>\n<polyline fill=\"none\" stroke=\"#000000\" points=\"710.2941,-57 642.2941,-57 \"/>\n<polyline fill=\"none\" stroke=\"#000000\" points=\"710.2941,-57 710.2941,-11 \"/>\n<polyline fill=\"none\" stroke=\"#000000\" points=\"710.2941,-57 714.2941,-61 \"/>\n<text text-anchor=\"middle\" x=\"678.2941\" y=\"-32.3\" font-family=\"Times,serif\" font-size=\"14.00\" fill=\"#000000\">calculate</text>\n</g>\n<!-- identify&#45;&gt;calculate -->\n<g id=\"edge6\" class=\"edge\">\n<title>identify&#45;&gt;calculate</title>\n<path fill=\"none\" stroke=\"#000000\" d=\"M606.557,-36C614.6603,-36 623.363,-36 631.815,-36\"/>\n<polygon fill=\"#000000\" stroke=\"#000000\" points=\"631.9431,-39.5001 641.9431,-36 631.9431,-32.5001 631.9431,-39.5001\"/>\n</g>\n<!-- results -->\n<g id=\"node8\" class=\"node\">\n<title>results</title>\n<ellipse fill=\"none\" stroke=\"#000000\" cx=\"784.7411\" cy=\"-36\" rx=\"34.394\" ry=\"18\"/>\n<text text-anchor=\"middle\" x=\"784.7411\" y=\"-32.3\" font-family=\"Times,serif\" font-size=\"14.00\" fill=\"#000000\">results</text>\n</g>\n<!-- calculate&#45;&gt;results -->\n<g id=\"edge7\" class=\"edge\">\n<title>calculate&#45;&gt;results</title>\n<path fill=\"none\" stroke=\"#000000\" d=\"M714.3322,-36C722.5651,-36 731.4127,-36 739.9619,-36\"/>\n<polygon fill=\"#000000\" stroke=\"#000000\" points=\"740.1808,-39.5001 750.1808,-36 740.1808,-32.5001 740.1808,-39.5001\"/>\n</g>\n<!-- image -->\n<g id=\"node7\" class=\"node\">\n<title>image</title>\n<ellipse fill=\"none\" stroke=\"#000000\" cx=\"33.1471\" cy=\"-36\" rx=\"33.2948\" ry=\"18\"/>\n<text text-anchor=\"middle\" x=\"33.1471\" y=\"-32.3\" font-family=\"Times,serif\" font-size=\"14.00\" fill=\"#000000\">image</text>\n</g>\n<!-- image&#45;&gt;slice -->\n<g id=\"edge1\" class=\"edge\">\n<title>image&#45;&gt;slice</title>\n<path fill=\"none\" stroke=\"#000000\" d=\"M66.4162,-36C74.4578,-36 83.199,-36 91.7267,-36\"/>\n<polygon fill=\"#000000\" stroke=\"#000000\" points=\"91.9613,-39.5001 101.9612,-36 91.9612,-32.5001 91.9613,-39.5001\"/>\n</g>\n</g>\n</svg>\n"
          },
          "metadata": {},
          "execution_count": 5
        }
      ]
    },
    {
      "cell_type": "markdown",
      "metadata": {
        "id": "ItrFT6RuC0Ao"
      },
      "source": [
        "Download 'mat' file."
      ]
    },
    {
      "cell_type": "code",
      "metadata": {
        "id": "kIEbnoK8Ic72"
      },
      "source": [
        "dict_img= loadmat(dict_path + download_file)"
      ],
      "execution_count": 6,
      "outputs": []
    },
    {
      "cell_type": "code",
      "metadata": {
        "colab": {
          "base_uri": "https://localhost:8080/"
        },
        "id": "XnaEUrIyJKDM",
        "outputId": "d4d29d05-5292-4b53-ce48-f795cac8f532"
      },
      "source": [
        "print('dictionary lenght is', len(dict_img))\n",
        "dict_img.keys()"
      ],
      "execution_count": 7,
      "outputs": [
        {
          "output_type": "stream",
          "name": "stdout",
          "text": [
            "dictionary lenght is 1\n"
          ]
        },
        {
          "output_type": "execute_result",
          "data": {
            "text/plain": [
              "dict_keys(['stokes_norm'])"
            ]
          },
          "metadata": {},
          "execution_count": 7
        }
      ]
    },
    {
      "cell_type": "code",
      "metadata": {
        "id": "mAJ7oBLc_C27",
        "colab": {
          "base_uri": "https://localhost:8080/"
        },
        "outputId": "fcf9acb4-9dac-4237-8491-658bb212e0e1"
      },
      "source": [
        "dict_list = list(dict_img.keys())\n",
        "print(dict_list)"
      ],
      "execution_count": 8,
      "outputs": [
        {
          "output_type": "stream",
          "name": "stdout",
          "text": [
            "['stokes_norm']\n"
          ]
        }
      ]
    },
    {
      "cell_type": "markdown",
      "metadata": {
        "id": "4nB6z-JkDDC3"
      },
      "source": [
        "Determine additional values."
      ]
    },
    {
      "cell_type": "code",
      "metadata": {
        "colab": {
          "base_uri": "https://localhost:8080/"
        },
        "id": "5Y2rkMTEGo6e",
        "outputId": "2653c504-5117-45c7-8192-ef2574d8ae7b"
      },
      "source": [
        "len(dict_img)"
      ],
      "execution_count": 9,
      "outputs": [
        {
          "output_type": "execute_result",
          "data": {
            "text/plain": [
              "1"
            ]
          },
          "metadata": {},
          "execution_count": 9
        }
      ]
    },
    {
      "cell_type": "code",
      "metadata": {
        "id": "LdjVTngv44hJ",
        "colab": {
          "base_uri": "https://localhost:8080/"
        },
        "outputId": "d8c4659b-010c-4183-cc2e-f28f771183b9"
      },
      "source": [
        "imSize = np.transpose(np.asarray(dict_img[dict_list[0]], dtype=np.float32)).shape\n",
        "nc = imSize[0]\n",
        "n = [i for i in range(nc)] # auxiliary variable \n",
        "channels = [0]*nc # images template\n",
        "j = 0 #auxiliary variable \n",
        "print(imSize,n)"
      ],
      "execution_count": 15,
      "outputs": [
        {
          "output_type": "stream",
          "name": "stdout",
          "text": [
            "(3, 12870439) [0, 1, 2]\n"
          ]
        }
      ]
    },
    {
      "cell_type": "code",
      "metadata": {
        "colab": {
          "base_uri": "https://localhost:8080/",
          "height": 163
        },
        "id": "5fSdOEJqxquD",
        "outputId": "f9cda3ff-7920-458b-f443-5f631a30487b"
      },
      "source": [
        "type.channels[0]"
      ],
      "execution_count": 28,
      "outputs": [
        {
          "output_type": "error",
          "ename": "AttributeError",
          "evalue": "ignored",
          "traceback": [
            "\u001b[0;31m---------------------------------------------------------------------------\u001b[0m",
            "\u001b[0;31mAttributeError\u001b[0m                            Traceback (most recent call last)",
            "\u001b[0;32m<ipython-input-28-b6f841c6ca5f>\u001b[0m in \u001b[0;36m<module>\u001b[0;34m()\u001b[0m\n\u001b[0;32m----> 1\u001b[0;31m \u001b[0mtype\u001b[0m\u001b[0;34m.\u001b[0m\u001b[0mchannels\u001b[0m\u001b[0;34m[\u001b[0m\u001b[0;36m0\u001b[0m\u001b[0;34m]\u001b[0m\u001b[0;34m\u001b[0m\u001b[0;34m\u001b[0m\u001b[0m\n\u001b[0m",
            "\u001b[0;31mAttributeError\u001b[0m: type object 'type' has no attribute 'channels'"
          ]
        }
      ]
    },
    {
      "cell_type": "code",
      "metadata": {
        "id": "qSML63ZBPo33",
        "colab": {
          "base_uri": "https://localhost:8080/",
          "height": 374
        },
        "outputId": "d12d886b-8162-4f26-d14d-ce134cd7c7b6"
      },
      "source": [
        "for i in n:\n",
        "  im = np.transpose(np.asarray(channels[i],\n",
        "                               dtype=np.float32))#read and transpose\n",
        "  im = np.nan_to_num(im, copy=True, nan=np.nanmedian(im),\n",
        "                     posinf=None, neginf=None)#replace NANs with median value                             \n",
        "  im_norm = 255*(im-np.min(im))/(np.max(im)-np.min(im))# normalisation\n",
        "  im_norm_inv = 255 - im_norm # inverce image\n",
        "  #imCr = im[img_size[0]:img_size[2],img_size[1]:img_size[3]]#crop, if required\n",
        "  channels[i]=np.reshape(im_norm_inv, (8039,1601))"
      ],
      "execution_count": 25,
      "outputs": [
        {
          "output_type": "error",
          "ename": "ValueError",
          "evalue": "ignored",
          "traceback": [
            "\u001b[0;31m---------------------------------------------------------------------------\u001b[0m",
            "\u001b[0;31mValueError\u001b[0m                                Traceback (most recent call last)",
            "\u001b[0;32m<ipython-input-25-075798ffaaac>\u001b[0m in \u001b[0;36m<module>\u001b[0;34m()\u001b[0m\n\u001b[1;32m      7\u001b[0m   \u001b[0mim_norm_inv\u001b[0m \u001b[0;34m=\u001b[0m \u001b[0;36m255\u001b[0m \u001b[0;34m-\u001b[0m \u001b[0mim_norm\u001b[0m \u001b[0;31m# inverce image\u001b[0m\u001b[0;34m\u001b[0m\u001b[0;34m\u001b[0m\u001b[0m\n\u001b[1;32m      8\u001b[0m   \u001b[0;31m#imCr = im[img_size[0]:img_size[2],img_size[1]:img_size[3]]#crop, if required\u001b[0m\u001b[0;34m\u001b[0m\u001b[0;34m\u001b[0m\u001b[0;34m\u001b[0m\u001b[0m\n\u001b[0;32m----> 9\u001b[0;31m   \u001b[0mchannels\u001b[0m\u001b[0;34m[\u001b[0m\u001b[0mi\u001b[0m\u001b[0;34m]\u001b[0m\u001b[0;34m=\u001b[0m\u001b[0mnp\u001b[0m\u001b[0;34m.\u001b[0m\u001b[0mreshape\u001b[0m\u001b[0;34m(\u001b[0m\u001b[0mim_norm_inv\u001b[0m\u001b[0;34m,\u001b[0m \u001b[0;34m(\u001b[0m\u001b[0;36m8039\u001b[0m\u001b[0;34m,\u001b[0m\u001b[0;36m1601\u001b[0m\u001b[0;34m)\u001b[0m\u001b[0;34m)\u001b[0m\u001b[0;34m\u001b[0m\u001b[0;34m\u001b[0m\u001b[0m\n\u001b[0m",
            "\u001b[0;32m<__array_function__ internals>\u001b[0m in \u001b[0;36mreshape\u001b[0;34m(*args, **kwargs)\u001b[0m\n",
            "\u001b[0;32m/usr/local/lib/python3.7/dist-packages/numpy/core/fromnumeric.py\u001b[0m in \u001b[0;36mreshape\u001b[0;34m(a, newshape, order)\u001b[0m\n\u001b[1;32m    297\u001b[0m            [5, 6]])\n\u001b[1;32m    298\u001b[0m     \"\"\"\n\u001b[0;32m--> 299\u001b[0;31m     \u001b[0;32mreturn\u001b[0m \u001b[0m_wrapfunc\u001b[0m\u001b[0;34m(\u001b[0m\u001b[0ma\u001b[0m\u001b[0;34m,\u001b[0m \u001b[0;34m'reshape'\u001b[0m\u001b[0;34m,\u001b[0m \u001b[0mnewshape\u001b[0m\u001b[0;34m,\u001b[0m \u001b[0morder\u001b[0m\u001b[0;34m=\u001b[0m\u001b[0morder\u001b[0m\u001b[0;34m)\u001b[0m\u001b[0;34m\u001b[0m\u001b[0;34m\u001b[0m\u001b[0m\n\u001b[0m\u001b[1;32m    300\u001b[0m \u001b[0;34m\u001b[0m\u001b[0m\n\u001b[1;32m    301\u001b[0m \u001b[0;34m\u001b[0m\u001b[0m\n",
            "\u001b[0;32m/usr/local/lib/python3.7/dist-packages/numpy/core/fromnumeric.py\u001b[0m in \u001b[0;36m_wrapfunc\u001b[0;34m(obj, method, *args, **kwds)\u001b[0m\n\u001b[1;32m     56\u001b[0m \u001b[0;34m\u001b[0m\u001b[0m\n\u001b[1;32m     57\u001b[0m     \u001b[0;32mtry\u001b[0m\u001b[0;34m:\u001b[0m\u001b[0;34m\u001b[0m\u001b[0;34m\u001b[0m\u001b[0m\n\u001b[0;32m---> 58\u001b[0;31m         \u001b[0;32mreturn\u001b[0m \u001b[0mbound\u001b[0m\u001b[0;34m(\u001b[0m\u001b[0;34m*\u001b[0m\u001b[0margs\u001b[0m\u001b[0;34m,\u001b[0m \u001b[0;34m**\u001b[0m\u001b[0mkwds\u001b[0m\u001b[0;34m)\u001b[0m\u001b[0;34m\u001b[0m\u001b[0;34m\u001b[0m\u001b[0m\n\u001b[0m\u001b[1;32m     59\u001b[0m     \u001b[0;32mexcept\u001b[0m \u001b[0mTypeError\u001b[0m\u001b[0;34m:\u001b[0m\u001b[0;34m\u001b[0m\u001b[0;34m\u001b[0m\u001b[0m\n\u001b[1;32m     60\u001b[0m         \u001b[0;31m# A TypeError occurs if the object does have such a method in its\u001b[0m\u001b[0;34m\u001b[0m\u001b[0;34m\u001b[0m\u001b[0;34m\u001b[0m\u001b[0m\n",
            "\u001b[0;31mValueError\u001b[0m: cannot reshape array of size 38611317 into shape (8039,1601)"
          ]
        }
      ]
    },
    {
      "cell_type": "code",
      "metadata": {
        "colab": {
          "base_uri": "https://localhost:8080/"
        },
        "id": "xPvvnTee84y3",
        "outputId": "463af618-5eef-4625-f993-9f1b1f1e61a3"
      },
      "source": [
        "np.shape(channels)"
      ],
      "execution_count": 20,
      "outputs": [
        {
          "output_type": "stream",
          "name": "stderr",
          "text": [
            "/usr/local/lib/python3.7/dist-packages/numpy/core/_asarray.py:83: VisibleDeprecationWarning: Creating an ndarray from ragged nested sequences (which is a list-or-tuple of lists-or-tuples-or ndarrays with different lengths or shapes) is deprecated. If you meant to do this, you must specify 'dtype=object' when creating the ndarray\n",
            "  return array(a, dtype, copy=False, order=order)\n"
          ]
        },
        {
          "output_type": "execute_result",
          "data": {
            "text/plain": [
              "(3,)"
            ]
          },
          "metadata": {},
          "execution_count": 20
        }
      ]
    },
    {
      "cell_type": "code",
      "metadata": {
        "colab": {
          "base_uri": "https://localhost:8080/",
          "height": 231
        },
        "id": "fIdVQim0SAp0",
        "outputId": "d0d23dbf-e60a-4bf3-80eb-5dad1a47175e"
      },
      "source": [
        "titles = list('Q Stokes parameter','U Stokes parameter','V Stokes parameter')\n",
        "plt.figure(figsize=(fig_size[0]*nc,fig_size[0]))\n",
        "for i in n:\n",
        "  plt.subplot(nc,1,i+1)\n",
        "  plt.imshow(channels[i],cmap=img_map1)\n",
        "  plt.title(titles[i])"
      ],
      "execution_count": 21,
      "outputs": [
        {
          "output_type": "error",
          "ename": "TypeError",
          "evalue": "ignored",
          "traceback": [
            "\u001b[0;31m---------------------------------------------------------------------------\u001b[0m",
            "\u001b[0;31mTypeError\u001b[0m                                 Traceback (most recent call last)",
            "\u001b[0;32m<ipython-input-21-f75a665e2613>\u001b[0m in \u001b[0;36m<module>\u001b[0;34m()\u001b[0m\n\u001b[0;32m----> 1\u001b[0;31m \u001b[0mtitles\u001b[0m \u001b[0;34m=\u001b[0m \u001b[0mlist\u001b[0m\u001b[0;34m(\u001b[0m\u001b[0;34m'Q Stokes parameter'\u001b[0m\u001b[0;34m,\u001b[0m\u001b[0;34m'U Stokes parameter'\u001b[0m\u001b[0;34m,\u001b[0m\u001b[0;34m'V Stokes parameter'\u001b[0m\u001b[0;34m)\u001b[0m\u001b[0;34m\u001b[0m\u001b[0;34m\u001b[0m\u001b[0m\n\u001b[0m\u001b[1;32m      2\u001b[0m \u001b[0mplt\u001b[0m\u001b[0;34m.\u001b[0m\u001b[0mfigure\u001b[0m\u001b[0;34m(\u001b[0m\u001b[0mfigsize\u001b[0m\u001b[0;34m=\u001b[0m\u001b[0;34m(\u001b[0m\u001b[0mfig_size\u001b[0m\u001b[0;34m[\u001b[0m\u001b[0;36m0\u001b[0m\u001b[0;34m]\u001b[0m\u001b[0;34m*\u001b[0m\u001b[0mnc\u001b[0m\u001b[0;34m,\u001b[0m\u001b[0mfig_size\u001b[0m\u001b[0;34m[\u001b[0m\u001b[0;36m0\u001b[0m\u001b[0;34m]\u001b[0m\u001b[0;34m)\u001b[0m\u001b[0;34m)\u001b[0m\u001b[0;34m\u001b[0m\u001b[0;34m\u001b[0m\u001b[0m\n\u001b[1;32m      3\u001b[0m \u001b[0;32mfor\u001b[0m \u001b[0mi\u001b[0m \u001b[0;32min\u001b[0m \u001b[0mn\u001b[0m\u001b[0;34m:\u001b[0m\u001b[0;34m\u001b[0m\u001b[0;34m\u001b[0m\u001b[0m\n\u001b[1;32m      4\u001b[0m   \u001b[0mplt\u001b[0m\u001b[0;34m.\u001b[0m\u001b[0msubplot\u001b[0m\u001b[0;34m(\u001b[0m\u001b[0mnc\u001b[0m\u001b[0;34m,\u001b[0m\u001b[0;36m1\u001b[0m\u001b[0;34m,\u001b[0m\u001b[0mi\u001b[0m\u001b[0;34m+\u001b[0m\u001b[0;36m1\u001b[0m\u001b[0;34m)\u001b[0m\u001b[0;34m\u001b[0m\u001b[0;34m\u001b[0m\u001b[0m\n\u001b[1;32m      5\u001b[0m   \u001b[0mplt\u001b[0m\u001b[0;34m.\u001b[0m\u001b[0mimshow\u001b[0m\u001b[0;34m(\u001b[0m\u001b[0mchannels\u001b[0m\u001b[0;34m[\u001b[0m\u001b[0mi\u001b[0m\u001b[0;34m]\u001b[0m\u001b[0;34m,\u001b[0m\u001b[0mcmap\u001b[0m\u001b[0;34m=\u001b[0m\u001b[0mimg_map1\u001b[0m\u001b[0;34m)\u001b[0m\u001b[0;34m\u001b[0m\u001b[0;34m\u001b[0m\u001b[0m\n",
            "\u001b[0;31mTypeError\u001b[0m: list expected at most 1 arguments, got 3"
          ]
        }
      ]
    },
    {
      "cell_type": "markdown",
      "metadata": {
        "id": "RzywdClhUOEP"
      },
      "source": [
        "**Create templates (empty lists).**"
      ]
    },
    {
      "cell_type": "code",
      "metadata": {
        "id": "xuya43jWUUH9"
      },
      "source": [
        "channelsF = [0]*nc # filtered channels template\n",
        "img_path_temp = [0]*nc # another one template\n",
        "channelsFGray = [0]*nc # and another one\n",
        "ret = [0]*nc # one more template\n",
        "thresh = [0]*nc # one more template\n",
        "opening = [0]*nc # one more template\n",
        "sure_bg = [0]*nc # one more template\n",
        "sure_fg = [0]*nc # one more template\n",
        "ret1 = [0]*nc # one more template\n",
        "dist_transform = [0]*nc # one more template\n",
        "unknown = [0]*nc # one more template\n",
        "ret2 = [0]*nc # one more template\n",
        "markers = [0]*nc # one more template\n",
        "markersi= [0]*nc # one more template\n",
        "channelsFB = [0]*nc # one more template\n",
        "channelsFW = [0]*nc # one more template\n",
        "channelsFWi= [0]*nc # one more template\n",
        "regions = [0]*nc\n",
        "numberOfCells = [0]*nc\n",
        "\n",
        "pixels2microns = 1"
      ],
      "execution_count": null,
      "outputs": []
    },
    {
      "cell_type": "markdown",
      "metadata": {
        "id": "DHjqavf0JJlK"
      },
      "source": [
        "#**Filter channel images.**"
      ]
    },
    {
      "cell_type": "code",
      "metadata": {
        "id": "5T34uVUjNXyc"
      },
      "source": [
        "#flow chart visualisation\n",
        "gv('''slice[shape=box3d width=1 height=0.7] filter[shape=box3d width=1 height=1] threshold[shape=box3d width=1 height=0.7] denoise[shape=box3d width=1 height=0.7] identify[shape=box3d width=1 height=0.7] calculate[shape=box3d width=1 height=0.7]\n",
        "image->slice->filter->threshold->denoise->identify->calculate->results''')\n",
        "# https://laptrinhx.com/five-lessons-from-my-data-science-internship-at-hara-1112784335/"
      ],
      "execution_count": null,
      "outputs": []
    },
    {
      "cell_type": "markdown",
      "metadata": {
        "id": "ryowCi0lo8Hy"
      },
      "source": [
        "The non-local means denoising and the median filter are performed. "
      ]
    },
    {
      "cell_type": "code",
      "metadata": {
        "id": "RDzJwx-bOuQ3"
      },
      "source": [
        "for i in n:\n",
        "  # \"denoise_nl_means\" performs non-local means denoising\n",
        "  sigma_est = np.mean(estimate_sigma(channels[i], multichannel=False))\n",
        "  patch_kw = dict(patch_size=ps, patch_distance=patchDist, multichannel=False)\n",
        "  channelsF[i] = denoise_nl_means(channels[i], h=hc*sigma_est, fast_mode=False, **patch_kw)\n",
        "  channelsF[i] = np.uint16(channelsF[i])\n",
        "\n",
        "  # Apply a multidimensional median filter\n",
        "  channelsF[i] = ndimage.median_filter(channelsF[i], size=kernel4filt)\n",
        "\n",
        "  print(i,'channel sigma estimation = ',sigma_est)\n",
        "  print(i,'channel shape: ',channelsF[i].shape, channelsF[i].dtype, type(channelsF[i]))\n",
        "  print(np.amax(channelsF[i]))\n",
        "\n",
        "   "
      ],
      "execution_count": null,
      "outputs": []
    },
    {
      "cell_type": "markdown",
      "metadata": {
        "id": "AyJt51ufb-Yp"
      },
      "source": [
        "Shifted images."
      ]
    },
    {
      "cell_type": "code",
      "metadata": {
        "id": "azluJ-1db98l"
      },
      "source": [
        ""
      ],
      "execution_count": null,
      "outputs": []
    },
    {
      "cell_type": "markdown",
      "metadata": {
        "id": "6ytgjfUmPcy5"
      },
      "source": [
        "**Visualize channels after filtering.**"
      ]
    },
    {
      "cell_type": "code",
      "metadata": {
        "id": "ib0AKWxcMtws"
      },
      "source": [
        "plt.figure(figsize=(fig_size[0]*nc,fig_size[0]))\n",
        "for i in n:\n",
        "  plt.subplot(nc,1,i+1)\n",
        "  plt.imshow(channelsF[i],cmap=img_map1)\n",
        "  plt.title(titles[i]+' (filtered)')\n",
        "\n",
        "  # plt.subplot(nc,2,i+2)\n",
        "  # plt.imshow(channelsF[i],cmap=img_map1)\n",
        "  # plt.title(titles[i]+' (filtered)')"
      ],
      "execution_count": null,
      "outputs": []
    },
    {
      "cell_type": "code",
      "metadata": {
        "id": "53px4b4ZzOU0"
      },
      "source": [
        "#plt.figure(figsize=fig_size)\n",
        "#plt.imshow(channelsF[1],cmap = img_map)"
      ],
      "execution_count": null,
      "outputs": []
    },
    {
      "cell_type": "markdown",
      "metadata": {
        "id": "gmWUnnUvj_GI"
      },
      "source": [
        "**Create tepmorary 'tiff' files.**"
      ]
    },
    {
      "cell_type": "code",
      "metadata": {
        "id": "5RHxx2AekCuW"
      },
      "source": [
        "for i in n:\n",
        "  img_title = dict_list[i]\n",
        "  img_path_temp[i] = dict_path[0] + img_title + '_' + str(i) + '.tiff' # path 0\n",
        "  cv2.imwrite(img_path_temp[i], channelsF[i]) # save channels in a temporary tiff file\n",
        "print(img_path_temp)"
      ],
      "execution_count": null,
      "outputs": []
    },
    {
      "cell_type": "markdown",
      "metadata": {
        "id": "Q4lmnzK9zhJ6"
      },
      "source": [
        "**Read images using OpenCV.**"
      ]
    },
    {
      "cell_type": "code",
      "metadata": {
        "id": "srJBVZ9Cmef-"
      },
      "source": [
        "for i in n:\n",
        "  channelsFGray[i] = cv2.imread(img_path_temp[i],cv2.IMREAD_GRAYSCALE)\n",
        "  print(type(channelsFGray[i]),channelsFGray[i].shape,channelsFGray[i].dtype)"
      ],
      "execution_count": null,
      "outputs": []
    },
    {
      "cell_type": "markdown",
      "metadata": {
        "id": "DtSv4SQVD3Hx"
      },
      "source": [
        "#**Threshold and delete noise.**\n",
        "\n",
        "Threshold image to binary using 'OTSU'. All the thresholded pixels are set to 255. Then remove noise using 'opening' and remove edge touching with 'clear_border' function (optional)."
      ]
    },
    {
      "cell_type": "code",
      "metadata": {
        "id": "W_OUCU6uOP_4"
      },
      "source": [
        "#flow chart visualisation\n",
        "gv('''slice[shape=box3d width=1 height=0.7] filter[shape=box3d width=1 height=0.7] threshold[shape=box3d width=1 height=1] denoise[shape=box3d width=1 height=1] identify[shape=box3d width=1 height=0.7] calculate[shape=box3d width=1 height=0.7]\n",
        "image->slice->filter->threshold->denoise->identify->calculate->results''')"
      ],
      "execution_count": null,
      "outputs": []
    },
    {
      "cell_type": "code",
      "metadata": {
        "id": "0GyZKAnF0J4A"
      },
      "source": [
        "for i in n:\n",
        "  ret[i], thresh[i] = cv2.threshold(channelsFGray[i], 0, 255, \n",
        "                                    cv2.THRESH_BINARY+cv2.THRESH_OTSU)\n",
        "  opening[i] = cv2.morphologyEx(thresh[i],cv2.MORPH_OPEN,kernel,\n",
        "                                iterations = numberOfIter)\n",
        "  if clearBorder == 'on':\n",
        "    opening[i] = clear_border(opening[i])"
      ],
      "execution_count": null,
      "outputs": []
    },
    {
      "cell_type": "markdown",
      "metadata": {
        "id": "xK6WWrjqSVxe"
      },
      "source": [
        "**Identify background and foreground area using OpenCV distance transformation. Apply watershed.**"
      ]
    },
    {
      "cell_type": "code",
      "metadata": {
        "id": "aZfH3jMiOYRQ"
      },
      "source": [
        "#flow chart visualisation\n",
        "gv('''slice[shape=box3d width=1 height=0.7] filter[shape=box3d width=1 height=0.7] threshold[shape=box3d width=1 height=0.7] denoise[shape=box3d width=1 height=0.7] identify[shape=box3d width=1 height=1] calculate[shape=box3d width=1 height=0.7]\n",
        "image->slice->filter->threshold->denoise->identify->calculate->results''')"
      ],
      "execution_count": null,
      "outputs": []
    },
    {
      "cell_type": "markdown",
      "metadata": {
        "id": "K3Dogsl-p3S3"
      },
      "source": [
        "Find sure background and sure foreground regions."
      ]
    },
    {
      "cell_type": "code",
      "metadata": {
        "id": "35phegXRSg71"
      },
      "source": [
        "for i in n:\n",
        "  sure_bg[i] = cv2.dilate(opening[i],\n",
        "                          kernel,iterations=numberOfIter) # sure background\n",
        "  dist_transform[i] = cv2.distanceTransform(opening[i],cv2.DIST_L2,\n",
        "                                            dist_transf_param)\n",
        "  \n",
        "  ret1[i], sure_fg[i] = cv2.threshold(dist_transform[i],\n",
        "                                      dist_transf_ratio*dist_transform[i].max(),\n",
        "                                      255,0)\n",
        "  sure_fg[i] = np.uint8(sure_fg[i]) # sure foreground"
      ],
      "execution_count": null,
      "outputs": []
    },
    {
      "cell_type": "markdown",
      "metadata": {
        "id": "ThlaR0EgtC7I"
      },
      "source": [
        "Add markers and apply watershed."
      ]
    },
    {
      "cell_type": "code",
      "metadata": {
        "id": "f9zsOKHvp0-9"
      },
      "source": [
        "for i in n:\n",
        "  unknown[i] = cv2.subtract(sure_bg[i], sure_fg[i])\n",
        "  ret2[i], markers[i] = cv2.connectedComponents(sure_fg[i])\n",
        "  markers[i] = markers[i] + markers_bias\n",
        "  markers[i][unknown[i]==255] = 0\n",
        "\n",
        "  markers[i] = cv2.watershed(cv2.imread(img_path_temp[i]),markers[i]) #The boundary regions will be marked as -1\n",
        "  channelsFB[i] = cv2.imread(img_path_temp[i])\n",
        "  channelsFB[i][markers[i] == -1] = [255,0,0] # highlight borders with red \n",
        "  channelsFW[i] = color.label2rgb(markers[i], bg_label = 0)"
      ],
      "execution_count": null,
      "outputs": []
    },
    {
      "cell_type": "markdown",
      "metadata": {
        "id": "Qj8mDCPavOei"
      },
      "source": [
        "Visualize."
      ]
    },
    {
      "cell_type": "code",
      "metadata": {
        "id": "RdR298Mcbe01"
      },
      "source": [
        "plt.figure(figsize=(fig_size[0]*nc,fig_size[0]))\n",
        "for i in n:\n",
        "  plt.subplot(nc,1,i+1)\n",
        "  plt.imshow(sure_fg[i],cmap=img_map1)\n",
        "  plt.title(titles[i]+' (sure foreground)')"
      ],
      "execution_count": null,
      "outputs": []
    },
    {
      "cell_type": "code",
      "metadata": {
        "id": "G4uOOfuDWpwQ"
      },
      "source": [
        "plt.figure(figsize=(fig_size[0]*nc,fig_size[0]))\n",
        "for i in n:\n",
        "  plt.subplot(nc,1,i+1)\n",
        "  plt.imshow(markers[i],cmap=img_map1)\n",
        "  plt.title(titles[i]+' (markers)')"
      ],
      "execution_count": null,
      "outputs": []
    },
    {
      "cell_type": "markdown",
      "metadata": {
        "id": "W2SFF1M6vDS5"
      },
      "source": [
        "Compare channels intersections to find the apoptosed cells."
      ]
    },
    {
      "cell_type": "code",
      "metadata": {
        "id": "CzoKGKqVt0dI"
      },
      "source": [
        "#channelsFWIntersection = cv2.bitwise_and(sure_fg[0], sure_fg[1])\n",
        "#channelsFWIntersection = join_segmentations(sure_fg[0], sure_fg[1]) # intersection\n",
        "#channelsFWIGray = cv2.cvtColor(channelsFWIntersection, cv2.COLOR_BGR2GRAY) # convert to gray image"
      ],
      "execution_count": null,
      "outputs": []
    },
    {
      "cell_type": "code",
      "metadata": {
        "id": "ve9J-xnJny1O"
      },
      "source": [
        "#retI,threshI = cv2.threshold(channelsFWIntersection, 0, 255, \n",
        "#                                    cv2.THRESH_BINARY+cv2.THRESH_OTSU)"
      ],
      "execution_count": null,
      "outputs": []
    },
    {
      "cell_type": "markdown",
      "metadata": {
        "id": "woHHcdh5epoV"
      },
      "source": [
        "#**Calculate metrics.**\n",
        "\n",
        "https://scikit-image.org/docs/dev/api/skimage.measure.html#skimage.measure.regionprops"
      ]
    },
    {
      "cell_type": "code",
      "metadata": {
        "id": "nz62cfMXOw5L"
      },
      "source": [
        "#flow chart visualisation\n",
        "gv('''slice[shape=box3d width=1 height=0.7] filter[shape=box3d width=1 height=0.7] threshold[shape=box3d width=1 height=0.7] denoise[shape=box3d width=1 height=0.7] identify[shape=box3d width=1 height=0.7] calculate[shape=box3d width=1 height=1]\n",
        "image->slice->filter->threshold->denoise->identify->calculate->results''')"
      ],
      "execution_count": null,
      "outputs": []
    },
    {
      "cell_type": "code",
      "metadata": {
        "id": "n3eEiXCveu9a"
      },
      "source": [
        "# Calculate metrics for channels\n",
        "for i in n:\n",
        "  regions[i] = measure.regionprops(markers[i], intensity_image=channels[i])\n",
        "  numberOfCells[i] = len(regions[i])-1\n",
        "  #print(regions[i])\n",
        "print('Numbers of cells in channel images are equal to',numberOfCells)\n",
        "print('Note: the number of cells in channel 0 was calculated according to the intersecting condition.')\n",
        "\n",
        "# # Calculate metrics for intersection\n",
        "# regionsI = measure.regionprops(channelsFWIntersection, intensity_image=channels[0])\n",
        "# numberOfApoptosedCells = len(regionsI)-1\n",
        "# print('Numbers of appoptosed cells is equal to',numberOfApoptosedCells)\n"
      ],
      "execution_count": null,
      "outputs": []
    },
    {
      "cell_type": "code",
      "metadata": {
        "id": "zdLEKsaHanzb"
      },
      "source": [
        "#Append intersection\n",
        "#regions.append(regionsI)"
      ],
      "execution_count": null,
      "outputs": []
    },
    {
      "cell_type": "markdown",
      "metadata": {
        "id": "863mKRmLjgEr"
      },
      "source": [
        "**Visualise and save metrics data.**"
      ]
    },
    {
      "cell_type": "code",
      "metadata": {
        "id": "XPb6cGVVxLpB"
      },
      "source": [
        "d = [0]*(nc)\n",
        "df_temp = [0]*(nc)\n",
        "\n",
        "for i in [i for i in range(nc)]:\n",
        "  nr = [i for i in range(len(regions[i]))]\n",
        "  d[i] = pd.DataFrame()\n",
        "  for j in nr:\n",
        "    df_temp[i] = pd.DataFrame({'No':j, \n",
        "                          'Area (mum^2)':int(regions[i][j].area*(pixels2microns**2)),\n",
        "                          'Equiv.diam. (mum)': regions[i][j].equivalent_diameter*pixels2microns,\n",
        "                          'Major axis length (mum)':regions[i][j].major_axis_length*pixels2microns,\n",
        "                          'Minor axis length (mum)':regions[i][j].minor_axis_length*pixels2microns,\n",
        "                          'Mean intensity':regions[i][j].mean_intensity,\n",
        "                          'Euler number': regions[i][j].euler_number,\n",
        "                          'Centroid':[regions[i][j].centroid],\n",
        "                          'Bounding box':[regions[i][j].bbox]})\n",
        "    d[i] = pd.concat([d[i],df_temp[i]])\n",
        "    d[i].to_csv(dict_path + dict_titles[0][0:-4] +'_channel_'+str(i) + '.csv')  "
      ],
      "execution_count": null,
      "outputs": []
    },
    {
      "cell_type": "code",
      "metadata": {
        "id": "_SBBdhOPmDKX"
      },
      "source": [
        "# Channel 0 (\"fluo4-T1\") intersected with Channel 1.\n",
        "d[0]"
      ],
      "execution_count": null,
      "outputs": []
    },
    {
      "cell_type": "code",
      "metadata": {
        "id": "z4s1Yeq5mMPV"
      },
      "source": [
        "# Channel 1 (\"H3342-T2\").\n",
        "d[1]"
      ],
      "execution_count": null,
      "outputs": []
    },
    {
      "cell_type": "code",
      "metadata": {
        "id": "Xq5ljlblcWcs"
      },
      "source": [
        "# Channels intersection, that is a data frame of appoptosed cells\n",
        "#d[2]"
      ],
      "execution_count": null,
      "outputs": []
    },
    {
      "cell_type": "markdown",
      "metadata": {
        "id": "EoZ11ErKUA1Z"
      },
      "source": [
        "**Visualize boundaries and cells.**"
      ]
    },
    {
      "cell_type": "code",
      "metadata": {
        "id": "dyonbyjkUFav"
      },
      "source": [
        "# Enumerate apoptosed cells on image\n",
        "for j in [i for i in range(len(regions[0]))]:\n",
        "  cellPosition = (regions[0][j].bbox[1],regions[0][j].bbox[0])\n",
        "  cv2.putText(channelsFW[0],str(j),\n",
        "              cellPosition,font,fontScale,fontColor,lineType)\n",
        "# Visualize\n",
        "fig, ax = plt.subplots(figsize=(fig_size[0],fig_size[1]))\n",
        "for i in n:\n",
        "  plt.subplot(2,2,i+1)\n",
        "  plt.imshow(channelsFB[i],cmap=img_map)\n",
        "  plt.title(titles[i]+'. Detected boundaries.')\n",
        "  plt.subplot(2,2,i+3)\n",
        "  plt.imshow(channelsFW[i],cmap=img_map1)\n",
        "  plt.title(titles[i]+ '. ' + str(numberOfCells[i]) + ' cell(s) were detected')"
      ],
      "execution_count": null,
      "outputs": []
    },
    {
      "cell_type": "markdown",
      "metadata": {
        "id": "IPddrbrppwyn"
      },
      "source": [
        "#**Compare the resulsts.**"
      ]
    },
    {
      "cell_type": "markdown",
      "metadata": {
        "id": "301pjd5FtQ1i"
      },
      "source": [
        "Read csv file (if any) with data obtained from labeling on Apeer platform https://www.apeer.com/."
      ]
    },
    {
      "cell_type": "code",
      "metadata": {
        "id": "NiFhnYU8tets"
      },
      "source": [
        "if os.path.exists(img_path + img_title + '_annotation.csv') == True:\n",
        "  dl = pd.read_csv(img_path + img_title + '_annotation.csv')\n",
        "  print('The total number of cells is: ', len(dl), '(data from apeer.com)', numberOfCells[1],'(result of the current program);')\n",
        "  print('The number of apoptosed cells is: ', len(dl[(dl.Class=='apoptosed')]), '(data from apeer.com)', numberOfCells[0],'(result of the current program).')\n",
        "else:\n",
        "    print('Labeling info obtained from apeer.com in a form of annotation file is absent.')"
      ],
      "execution_count": null,
      "outputs": []
    },
    {
      "cell_type": "code",
      "metadata": {
        "id": "wxQrhu-2z-Xe"
      },
      "source": [
        "#dl[(dl.Class=='alive')].head()"
      ],
      "execution_count": null,
      "outputs": []
    },
    {
      "cell_type": "code",
      "metadata": {
        "id": "oj9Qlt67z9-j"
      },
      "source": [
        "#dl[(dl.Class=='apoptosed')].head()"
      ],
      "execution_count": null,
      "outputs": []
    },
    {
      "cell_type": "markdown",
      "metadata": {
        "id": "Rn8IF4nOw97N"
      },
      "source": [
        "#**Series results.**\n",
        "\n",
        "Statistic data presented by 2 experts and 2 algorithm is used. The expert names are hidden. The algorihtm_1 is watershed (current programm), the algorithm_2 is semantic segmentation.  "
      ]
    },
    {
      "cell_type": "code",
      "metadata": {
        "id": "_eOEnXwcp8fP"
      },
      "source": [
        "#sr = pd.read_excel(img_path + 'Comparison.xlsx', index_col=None, na_values=[\"NA\"])"
      ],
      "execution_count": null,
      "outputs": []
    },
    {
      "cell_type": "code",
      "metadata": {
        "id": "fsLbbl4z2aAK"
      },
      "source": [
        "#sr.head()"
      ],
      "execution_count": null,
      "outputs": []
    },
    {
      "cell_type": "code",
      "metadata": {
        "id": "JxWUvhp78DxR"
      },
      "source": [
        "#sr[sr['Set']=='2021-02-16']"
      ],
      "execution_count": null,
      "outputs": []
    },
    {
      "cell_type": "markdown",
      "metadata": {
        "id": "KTDUdE_9KKyz"
      },
      "source": [
        "#**Some links.**\n",
        "\n",
        "Image Filtering https://cs.nyu.edu/~fergus/teaching/vision/3_filtering.pdf\n",
        "\n",
        "Cells count https://www.biorxiv.org/content/10.1101/181495v2.full"
      ]
    }
  ]
}