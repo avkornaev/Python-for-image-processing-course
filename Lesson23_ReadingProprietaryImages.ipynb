{
  "nbformat": 4,
  "nbformat_minor": 0,
  "metadata": {
    "colab": {
      "name": "Lesson23-ReadingProprietaryImages.ipynb",
      "provenance": [],
      "collapsed_sections": [],
      "mount_file_id": "19aPuk_MSJonAVKIIAphPsH6leN_XjgFm",
      "authorship_tag": "ABX9TyPWFsVMfJAVHu9cKIpjtl11",
      "include_colab_link": true
    },
    "kernelspec": {
      "name": "python3",
      "display_name": "Python 3"
    },
    "language_info": {
      "name": "python"
    }
  },
  "cells": [
    {
      "cell_type": "markdown",
      "metadata": {
        "id": "view-in-github",
        "colab_type": "text"
      },
      "source": [
        "<a href=\"https://colab.research.google.com/github/avkornaev/Python-for-image-processing-course/blob/main/Lesson23_ReadingProprietaryImages.ipynb\" target=\"_parent\"><img src=\"https://colab.research.google.com/assets/colab-badge.svg\" alt=\"Open In Colab\"/></a>"
      ]
    },
    {
      "cell_type": "code",
      "metadata": {
        "colab": {
          "base_uri": "https://localhost:8080/"
        },
        "id": "r0R7HQDakqEZ",
        "outputId": "39e03a11-5f57-4da7-fee5-f6149f38f5ed"
      },
      "source": [
        "pip install tifffile"
      ],
      "execution_count": 3,
      "outputs": [
        {
          "output_type": "stream",
          "text": [
            "Requirement already satisfied: tifffile in /usr/local/lib/python3.7/dist-packages (2021.7.2)\n",
            "Requirement already satisfied: numpy>=1.15.1 in /usr/local/lib/python3.7/dist-packages (from tifffile) (1.19.5)\n"
          ],
          "name": "stdout"
        }
      ]
    },
    {
      "cell_type": "code",
      "metadata": {
        "id": "jezxrZImkyev"
      },
      "source": [
        "import tifffile\n",
        "img = tifffile.imread()"
      ],
      "execution_count": null,
      "outputs": []
    },
    {
      "cell_type": "code",
      "metadata": {
        "id": "-q8uhYkujMk_"
      },
      "source": [
        "from skimage import io, img_as_float, img_as_ubyte\n",
        "import cv2\n",
        "img = cv2.imread('/content/drive/MyDrive/BloodCount/img1_00000_000000000000146.png',1)\n",
        "print(img.shape)#y,x,ch\n",
        "img.size"
      ],
      "execution_count": null,
      "outputs": []
    }
  ]
}