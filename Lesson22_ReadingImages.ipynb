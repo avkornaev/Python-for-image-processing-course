{
  "nbformat": 4,
  "nbformat_minor": 0,
  "metadata": {
    "colab": {
      "name": "Lesson22-ReadingImages.ipynb",
      "provenance": [],
      "collapsed_sections": [],
      "mount_file_id": "1wI-Zwhf7Wg0oV3HPfFv96WAGcBXSGjBM",
      "authorship_tag": "ABX9TyOCgxkclZcEotEVNkZHYiRv",
      "include_colab_link": true
    },
    "kernelspec": {
      "name": "python3",
      "display_name": "Python 3"
    },
    "language_info": {
      "name": "python"
    }
  },
  "cells": [
    {
      "cell_type": "markdown",
      "metadata": {
        "id": "view-in-github",
        "colab_type": "text"
      },
      "source": [
        "<a href=\"https://colab.research.google.com/github/avkornaev/Python-for-image-processing-course/blob/main/Lesson22_ReadingImages.ipynb\" target=\"_parent\"><img src=\"https://colab.research.google.com/assets/colab-badge.svg\" alt=\"Open In Colab\"/></a>"
      ]
    },
    {
      "cell_type": "markdown",
      "metadata": {
        "id": "6dHL-h0RAJC-"
      },
      "source": [
        "Reading images\n",
        "scikit-image: pip install scikit-image\n",
        "opencv: pip install opencv-python\n",
        "\n",
        "Pillow: PIL does not import images as numpy array. One can convert using numpy.asarray(img)"
      ]
    },
    {
      "cell_type": "code",
      "metadata": {
        "colab": {
          "base_uri": "https://localhost:8080/"
        },
        "id": "YszTFgzeEegc",
        "outputId": "55de4dee-b0e5-4e12-cb76-f88f079a4eeb"
      },
      "source": [
        "pip install opencv-python"
      ],
      "execution_count": 20,
      "outputs": [
        {
          "output_type": "stream",
          "text": [
            "Requirement already satisfied: opencv-python in /usr/local/lib/python3.7/dist-packages (4.1.2.30)\n",
            "Requirement already satisfied: numpy>=1.14.5 in /usr/local/lib/python3.7/dist-packages (from opencv-python) (1.19.5)\n"
          ],
          "name": "stdout"
        }
      ]
    },
    {
      "cell_type": "code",
      "metadata": {
        "colab": {
          "base_uri": "https://localhost:8080/"
        },
        "id": "FxC80E1-CW2J",
        "outputId": "61356f75-420a-4610-a21b-505347d5601d"
      },
      "source": [
        "from skimage import io, img_as_float, img_as_ubyte\n",
        "\n",
        "img = io.imread('/content/drive/MyDrive/BloodCount/img1_00000_000000000000146.png')\n",
        "print(img.shape)#y,x,ch\n",
        "img.size"
      ],
      "execution_count": 13,
      "outputs": [
        {
          "output_type": "stream",
          "text": [
            "(1216, 1936, 3)\n"
          ],
          "name": "stdout"
        },
        {
          "output_type": "execute_result",
          "data": {
            "text/plain": [
              "7062528"
            ]
          },
          "metadata": {
            "tags": []
          },
          "execution_count": 13
        }
      ]
    },
    {
      "cell_type": "code",
      "metadata": {
        "id": "_RPH5sKgC5GH"
      },
      "source": [
        "img2 = img_as_float(img)\n",
        "img_8bit = img_as_ubyte(img2)"
      ],
      "execution_count": 18,
      "outputs": []
    },
    {
      "cell_type": "markdown",
      "metadata": {
        "id": "70n4DQtSFRDi"
      },
      "source": [
        "Opencv reads images in order BGR instead of RGB"
      ]
    },
    {
      "cell_type": "code",
      "metadata": {
        "id": "ZrFdQDLEEPKO"
      },
      "source": [
        "import cv2\n",
        "cv_img = cv2.imread('/content/drive/MyDrive/BloodCount/img1_00000_000000000000146.png',1)\n",
        "# 0 and 1 are for gray and color images, respectivelly. 1 is default value\n",
        "img_opencv = cv2.cvtColor(cv_img,cv2.COLOR_BGR2RGB)\n",
        "img_opencv2 = cv2.cvtColor(cv_img,cv2.COLOR_BGR2HSV)"
      ],
      "execution_count": 26,
      "outputs": []
    }
  ]
}