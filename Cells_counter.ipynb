{
  "nbformat": 4,
  "nbformat_minor": 0,
  "metadata": {
    "colab": {
      "name": "Lesson23-ReadingProprietaryImages.ipynb",
      "provenance": [],
      "collapsed_sections": [],
      "mount_file_id": "https://github.com/avkornaev/Python-for-image-processing-course/blob/main/Lesson23_ReadingProprietaryImages.ipynb",
      "authorship_tag": "ABX9TyMpUG9hdywIeW9srL/F/Gvu",
      "include_colab_link": true
    },
    "kernelspec": {
      "name": "python3",
      "display_name": "Python 3"
    },
    "language_info": {
      "name": "python"
    }
  },
  "cells": [
    {
      "cell_type": "markdown",
      "metadata": {
        "id": "view-in-github",
        "colab_type": "text"
      },
      "source": [
        "<a href=\"https://colab.research.google.com/github/avkornaev/Python-for-image-processing-course/blob/main/Cells_counter.ipynb\" target=\"_parent\"><img src=\"https://colab.research.google.com/assets/colab-badge.svg\" alt=\"Open In Colab\"/></a>"
      ]
    },
    {
      "cell_type": "code",
      "metadata": {
        "id": "r0R7HQDakqEZ"
      },
      "source": [
        "#pip install tifffile\n"
      ],
      "execution_count": null,
      "outputs": []
    },
    {
      "cell_type": "code",
      "metadata": {
        "id": "ckhOBPjPwMvf"
      },
      "source": [
        "#pip install imagecodecs"
      ],
      "execution_count": null,
      "outputs": []
    },
    {
      "cell_type": "code",
      "metadata": {
        "id": "pcR5xAept9E-"
      },
      "source": [
        "#from google.colab import drive\n",
        "#drive.mount('/content/drive')"
      ],
      "execution_count": null,
      "outputs": []
    },
    {
      "cell_type": "code",
      "metadata": {
        "id": "JOSgxVVtwhBQ"
      },
      "source": [
        "#pip install czifile"
      ],
      "execution_count": null,
      "outputs": []
    },
    {
      "cell_type": "code",
      "metadata": {
        "id": "88fVKPtEwtqk"
      },
      "source": [
        "import czifile\n",
        "#img2 = czifile.imread('/content/drive/MyDrive/Cells_count/1122_1.tiff')"
      ],
      "execution_count": null,
      "outputs": []
    },
    {
      "cell_type": "code",
      "metadata": {
        "id": "jezxrZImkyev",
        "colab": {
          "base_uri": "https://localhost:8080/"
        },
        "outputId": "f97ec32c-927b-42fc-afec-dfc7e5393bc0"
      },
      "source": [
        "import tifffile\n",
        "img = tifffile.imread('/content/drive/MyDrive/Cells_count/1122_1.tiff')\n",
        "print(img.shape)#y,x,ch"
      ],
      "execution_count": null,
      "outputs": [
        {
          "output_type": "stream",
          "text": [
            "(3277, 3277, 3)\n"
          ],
          "name": "stdout"
        }
      ]
    },
    {
      "cell_type": "code",
      "metadata": {
        "id": "-q8uhYkujMk_",
        "colab": {
          "base_uri": "https://localhost:8080/"
        },
        "outputId": "e2271abc-a442-4d75-ad16-e961f1495f6f"
      },
      "source": [
        "from skimage import io, img_as_float, img_as_ubyte\n",
        "import cv2\n",
        "img2 = cv2.imread('/content/drive/MyDrive/BloodCount/img1_00000_000000000000146.png',1)\n",
        "print(img2.shape)#y,x,ch\n",
        "img.size"
      ],
      "execution_count": null,
      "outputs": [
        {
          "output_type": "stream",
          "text": [
            "(1216, 1936, 3)\n"
          ],
          "name": "stdout"
        },
        {
          "output_type": "execute_result",
          "data": {
            "text/plain": [
              "32216187"
            ]
          },
          "metadata": {
            "tags": []
          },
          "execution_count": 14
        }
      ]
    }
  ]
}