{
  "nbformat": 4,
  "nbformat_minor": 0,
  "metadata": {
    "colab": {
      "name": "Cells_counter",
      "provenance": [],
      "collapsed_sections": [],
      "mount_file_id": "1NK2wysdTZkrV8umn6Pr1ifnEeH6OPs89",
      "authorship_tag": "ABX9TyOnjlsS3ic6CtniB4KQI3DV",
      "include_colab_link": true
    },
    "kernelspec": {
      "name": "python3",
      "display_name": "Python 3"
    },
    "language_info": {
      "name": "python"
    }
  },
  "cells": [
    {
      "cell_type": "markdown",
      "metadata": {
        "id": "view-in-github",
        "colab_type": "text"
      },
      "source": [
        "<a href=\"https://colab.research.google.com/github/avkornaev/Python-for-image-processing-course/blob/main/Cells_counter.ipynb\" target=\"_parent\"><img src=\"https://colab.research.google.com/assets/colab-badge.svg\" alt=\"Open In Colab\"/></a>"
      ]
    },
    {
      "cell_type": "markdown",
      "metadata": {
        "id": "QvjlGUA_90C2"
      },
      "source": [
        "Install libraries. Execute code bellow just once to install the libraries. Then you may comment 'pip' lines using # in the begining of lines of the code."
      ]
    },
    {
      "cell_type": "code",
      "metadata": {
        "id": "JOSgxVVtwhBQ"
      },
      "source": [
        "\n",
        "!pip install czifile\n",
        "!pip install tifffile\n",
        "!pip install imagecodecs"
      ],
      "execution_count": null,
      "outputs": []
    },
    {
      "cell_type": "markdown",
      "metadata": {
        "id": "x-4KWkun_4cg"
      },
      "source": [
        "Connect to Google disk"
      ]
    },
    {
      "cell_type": "code",
      "metadata": {
        "id": "nWfh1iaz__LW"
      },
      "source": [
        "from google.colab import drive\n",
        "drive.mount('/content/drive')"
      ],
      "execution_count": null,
      "outputs": []
    },
    {
      "cell_type": "markdown",
      "metadata": {
        "id": "OqpYSO9X_056"
      },
      "source": [
        "Import libraries."
      ]
    },
    {
      "cell_type": "code",
      "metadata": {
        "id": "88fVKPtEwtqk"
      },
      "source": [
        "import czifile\n",
        "import tifffile"
      ],
      "execution_count": null,
      "outputs": []
    },
    {
      "cell_type": "code",
      "metadata": {
        "id": "jezxrZImkyev",
        "colab": {
          "base_uri": "https://localhost:8080/"
        },
        "outputId": "a87747bb-0f84-4af6-898e-203fc7079aff"
      },
      "source": [
        "\n",
        "img = tifffile.imread('/content/drive/MyDrive/Cells_count/1122_1.tiff')\n",
        "print(img.shape)#y,x,ch"
      ],
      "execution_count": null,
      "outputs": [
        {
          "output_type": "stream",
          "text": [
            "(3277, 3277, 3)\n"
          ],
          "name": "stdout"
        }
      ]
    },
    {
      "cell_type": "code",
      "metadata": {
        "id": "-q8uhYkujMk_",
        "colab": {
          "base_uri": "https://localhost:8080/"
        },
        "outputId": "f4c82e57-b4c4-43c7-bec1-64fa4e588931"
      },
      "source": [
        "from skimage import io, img_as_float, img_as_ubyte\n",
        "import cv2\n",
        "img2 = cv2.imread('/content/drive/MyDrive/BloodCount/img1_00000_000000000000146.png',1)\n",
        "print(img2.shape)#y,x,ch\n",
        "img.size"
      ],
      "execution_count": null,
      "outputs": [
        {
          "output_type": "stream",
          "text": [
            "(1216, 1936, 3)\n"
          ],
          "name": "stdout"
        },
        {
          "output_type": "execute_result",
          "data": {
            "text/plain": [
              "32216187"
            ]
          },
          "metadata": {
            "tags": []
          },
          "execution_count": 19
        }
      ]
    }
  ]
}