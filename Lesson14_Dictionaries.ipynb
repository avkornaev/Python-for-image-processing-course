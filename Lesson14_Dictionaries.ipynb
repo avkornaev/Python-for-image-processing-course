{
  "nbformat": 4,
  "nbformat_minor": 0,
  "metadata": {
    "colab": {
      "name": "Lesson14-Dictionaries.ipynb",
      "provenance": [],
      "collapsed_sections": [],
      "authorship_tag": "ABX9TyOcRnGy9gbPLHk9q5ixgsc3",
      "include_colab_link": true
    },
    "kernelspec": {
      "name": "python3",
      "display_name": "Python 3"
    },
    "language_info": {
      "name": "python"
    }
  },
  "cells": [
    {
      "cell_type": "markdown",
      "metadata": {
        "id": "view-in-github",
        "colab_type": "text"
      },
      "source": [
        "<a href=\"https://colab.research.google.com/github/avkornaev/Python-for-image-processing-course/blob/main/Lesson14_Dictionaries.ipynb\" target=\"_parent\"><img src=\"https://colab.research.google.com/assets/colab-badge.svg\" alt=\"Open In Colab\"/></a>"
      ]
    },
    {
      "cell_type": "code",
      "metadata": {
        "id": "A-Pnd6duXPSt"
      },
      "source": [
        ""
      ],
      "execution_count": null,
      "outputs": []
    },
    {
      "cell_type": "markdown",
      "metadata": {
        "id": "WkwutgjbXbpF"
      },
      "source": [
        "What are Dictionaries?"
      ]
    },
    {
      "cell_type": "code",
      "metadata": {
        "colab": {
          "base_uri": "https://localhost:8080/"
        },
        "id": "OOHMT0W6XgFI",
        "outputId": "09f137dc-3c78-40c0-f5e6-66f487f481c6"
      },
      "source": [
        "life_sciences = {'Botany':'plants','Zoology':'animals','Virology':'viruses','Cell_biology':'cells'}\n",
        "type(life_sciences)\n",
        "print(life_sciences)\n",
        "print('Zoology' in life_sciences)"
      ],
      "execution_count": 6,
      "outputs": [
        {
          "output_type": "stream",
          "text": [
            "{'Botany': 'plants', 'Zoology': 'animals', 'Virology': 'viruses', 'Cell_biology': 'cells'}\n",
            "True\n"
          ],
          "name": "stdout"
        }
      ]
    },
    {
      "cell_type": "code",
      "metadata": {
        "colab": {
          "base_uri": "https://localhost:8080/"
        },
        "id": "W64TGudpYg0T",
        "outputId": "6c0ae017-25b8-40cb-be9e-9c2f31bf5766"
      },
      "source": [
        "life_sciences['Neuroscience'] = 'nervous_system'\n",
        "print(life_sciences)\n"
      ],
      "execution_count": 8,
      "outputs": [
        {
          "output_type": "stream",
          "text": [
            "{'Botany': 'plants', 'Zoology': 'animals', 'Virology': 'viruses', 'Cell_biology': 'cells', 'Neuroscience': 'nervous_system'}\n"
          ],
          "name": "stdout"
        }
      ]
    },
    {
      "cell_type": "code",
      "metadata": {
        "colab": {
          "base_uri": "https://localhost:8080/"
        },
        "id": "ZSfa5MUUY1pu",
        "outputId": "26bc6954-941f-406f-9aaf-c8f2c23545c4"
      },
      "source": [
        "del life_sciences['Neuroscience']\n",
        "print(life_sciences)"
      ],
      "execution_count": 9,
      "outputs": [
        {
          "output_type": "stream",
          "text": [
            "{'Botany': 'plants', 'Zoology': 'animals', 'Virology': 'viruses', 'Cell_biology': 'cells'}\n"
          ],
          "name": "stdout"
        }
      ]
    },
    {
      "cell_type": "code",
      "metadata": {
        "colab": {
          "base_uri": "https://localhost:8080/"
        },
        "id": "FRMjRrPlZSIe",
        "outputId": "2a0f8430-ae5c-4e12-8b6c-09b429fe103d"
      },
      "source": [
        "b = {(1,0): 'a', (1,1): 'b', (2,2): 'c'}\n",
        "b"
      ],
      "execution_count": 11,
      "outputs": [
        {
          "output_type": "execute_result",
          "data": {
            "text/plain": [
              "{(1, 0): 'a', (1, 1): 'b', (2, 2): 'c'}"
            ]
          },
          "metadata": {
            "tags": []
          },
          "execution_count": 11
        }
      ]
    },
    {
      "cell_type": "code",
      "metadata": {
        "colab": {
          "base_uri": "https://localhost:8080/"
        },
        "id": "1ocWJmG7Z9Qm",
        "outputId": "563a3dcb-31d7-4a43-8e95-ebb6148b9f6a"
      },
      "source": [
        "b.clear()\n",
        "b"
      ],
      "execution_count": 12,
      "outputs": [
        {
          "output_type": "execute_result",
          "data": {
            "text/plain": [
              "{}"
            ]
          },
          "metadata": {
            "tags": []
          },
          "execution_count": 12
        }
      ]
    },
    {
      "cell_type": "code",
      "metadata": {
        "colab": {
          "base_uri": "https://localhost:8080/"
        },
        "id": "fSe-oedfaAI3",
        "outputId": "4c0abc04-f939-4587-a1c7-5468a1ecff96"
      },
      "source": [
        "d = list(life_sciences.keys())\n",
        "d"
      ],
      "execution_count": 13,
      "outputs": [
        {
          "output_type": "execute_result",
          "data": {
            "text/plain": [
              "['Botany', 'Zoology', 'Virology', 'Cell_biology']"
            ]
          },
          "metadata": {
            "tags": []
          },
          "execution_count": 13
        }
      ]
    },
    {
      "cell_type": "code",
      "metadata": {
        "colab": {
          "base_uri": "https://localhost:8080/"
        },
        "id": "kH-ocXusaTc_",
        "outputId": "f3ce4420-c1da-441b-d0ae-669d5da61f2a"
      },
      "source": [
        "e = list(life_sciences.values())\n",
        "e"
      ],
      "execution_count": 15,
      "outputs": [
        {
          "output_type": "execute_result",
          "data": {
            "text/plain": [
              "['plants', 'animals', 'viruses', 'cells']"
            ]
          },
          "metadata": {
            "tags": []
          },
          "execution_count": 15
        }
      ]
    }
  ]
}